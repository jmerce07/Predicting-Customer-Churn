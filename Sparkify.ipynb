{
 "cells": [
  {
   "cell_type": "markdown",
   "metadata": {},
   "source": [
    "# Sparkify Project Workspace\n",
    "This workspace contains a tiny subset (128MB) of the full dataset available (12GB). Feel free to use this workspace to build your project, or to explore a smaller subset with Spark before deploying your cluster on the cloud. Instructions for setting up your Spark cluster is included in the last lesson of the Extracurricular Spark Course content.\n",
    "\n",
    "You can follow the steps below to guide your data analysis and model building portion of this project."
   ]
  },
  {
   "cell_type": "code",
   "execution_count": 1,
   "metadata": {},
   "outputs": [],
   "source": [
    "# import libraries\n",
    "from pyspark.sql import SparkSession\n",
    "from pyspark.sql.functions import *\n",
    "from pyspark.sql.functions import sum as Fsum\n",
    "from pyspark.sql.types import *\n",
    "from pyspark.sql.window import *\n",
    "from pyspark.ml.feature import StandardScaler, StringIndexer, VectorAssembler, MinMaxScaler\n",
    "from pyspark.ml import Pipeline\n",
    "from pyspark.ml.classification import *\n",
    "from pyspark.ml.evaluation import *\n",
    "from pyspark.ml.feature import *\n",
    "from pyspark.ml.regression import *\n",
    "from pyspark.ml.tuning import *\n",
    "\n",
    "import re\n",
    "import datetime\n",
    "import time\n",
    "\n",
    "import numpy as np\n",
    "import pandas as pd\n",
    "%matplotlib inline\n",
    "import matplotlib.pyplot as plt\n",
    "import seaborn as sns"
   ]
  },
  {
   "cell_type": "code",
   "execution_count": 2,
   "metadata": {},
   "outputs": [],
   "source": [
    "# create a Spark session\n",
    "spark = SparkSession.builder \\\n",
    "    .master(\"local\") \\\n",
    "    .appName(\"Sparkify Project\") \\\n",
    "    .getOrCreate()"
   ]
  },
  {
   "cell_type": "code",
   "execution_count": 3,
   "metadata": {},
   "outputs": [
    {
     "data": {
      "text/plain": [
       "[('spark.master', 'local'),\n",
       " ('spark.app.name', 'Sparkify Project'),\n",
       " ('spark.app.id', 'local-1662650243411'),\n",
       " ('spark.rdd.compress', 'True'),\n",
       " ('spark.serializer.objectStreamReset', '100'),\n",
       " ('spark.executor.id', 'driver'),\n",
       " ('spark.submit.deployMode', 'client'),\n",
       " ('spark.ui.showConsoleProgress', 'true'),\n",
       " ('spark.driver.host', '5ed1f7e3f37d'),\n",
       " ('spark.driver.port', '44031')]"
      ]
     },
     "execution_count": 3,
     "metadata": {},
     "output_type": "execute_result"
    }
   ],
   "source": [
    "# get the current active SparkContext and its configuration\n",
    "spark.sparkContext.getConf().getAll()"
   ]
  },
  {
   "cell_type": "markdown",
   "metadata": {},
   "source": [
    "# Load and Clean Dataset\n",
    "In this workspace, the mini-dataset file is `mini_sparkify_event_data.json`. Load and clean the dataset, checking for invalid or missing data - for example, records without userids or sessionids. "
   ]
  },
  {
   "cell_type": "code",
   "execution_count": 4,
   "metadata": {},
   "outputs": [],
   "source": [
    "# Read in the data\n",
    "df = spark.read.json(\"mini_sparkify_event_data.json\")"
   ]
  },
  {
   "cell_type": "code",
   "execution_count": 5,
   "metadata": {},
   "outputs": [
    {
     "data": {
      "text/plain": [
       "(286500, 18)"
      ]
     },
     "execution_count": 5,
     "metadata": {},
     "output_type": "execute_result"
    }
   ],
   "source": [
    "# Get the shape of the data set\n",
    "df.count(), len(df.columns)"
   ]
  },
  {
   "cell_type": "code",
   "execution_count": 6,
   "metadata": {},
   "outputs": [
    {
     "name": "stdout",
     "output_type": "stream",
     "text": [
      "root\n",
      " |-- artist: string (nullable = true)\n",
      " |-- auth: string (nullable = true)\n",
      " |-- firstName: string (nullable = true)\n",
      " |-- gender: string (nullable = true)\n",
      " |-- itemInSession: long (nullable = true)\n",
      " |-- lastName: string (nullable = true)\n",
      " |-- length: double (nullable = true)\n",
      " |-- level: string (nullable = true)\n",
      " |-- location: string (nullable = true)\n",
      " |-- method: string (nullable = true)\n",
      " |-- page: string (nullable = true)\n",
      " |-- registration: long (nullable = true)\n",
      " |-- sessionId: long (nullable = true)\n",
      " |-- song: string (nullable = true)\n",
      " |-- status: long (nullable = true)\n",
      " |-- ts: long (nullable = true)\n",
      " |-- userAgent: string (nullable = true)\n",
      " |-- userId: string (nullable = true)\n",
      "\n"
     ]
    }
   ],
   "source": [
    "# Print the schema\n",
    "df.printSchema()"
   ]
  },
  {
   "cell_type": "code",
   "execution_count": 7,
   "metadata": {},
   "outputs": [
    {
     "data": {
      "text/plain": [
       "[Row(artist='Martha Tilston', auth='Logged In', firstName='Colin', gender='M', itemInSession=50, lastName='Freeman', length=277.89016, level='paid', location='Bakersfield, CA', method='PUT', page='NextSong', registration=1538173362000, sessionId=29, song='Rockpools', status=200, ts=1538352117000, userAgent='Mozilla/5.0 (Windows NT 6.1; WOW64; rv:31.0) Gecko/20100101 Firefox/31.0', userId='30'),\n",
       " Row(artist='Five Iron Frenzy', auth='Logged In', firstName='Micah', gender='M', itemInSession=79, lastName='Long', length=236.09424, level='free', location='Boston-Cambridge-Newton, MA-NH', method='PUT', page='NextSong', registration=1538331630000, sessionId=8, song='Canada', status=200, ts=1538352180000, userAgent='\"Mozilla/5.0 (Windows NT 6.1; WOW64) AppleWebKit/537.36 (KHTML, like Gecko) Chrome/37.0.2062.103 Safari/537.36\"', userId='9'),\n",
       " Row(artist='Adam Lambert', auth='Logged In', firstName='Colin', gender='M', itemInSession=51, lastName='Freeman', length=282.8273, level='paid', location='Bakersfield, CA', method='PUT', page='NextSong', registration=1538173362000, sessionId=29, song='Time For Miracles', status=200, ts=1538352394000, userAgent='Mozilla/5.0 (Windows NT 6.1; WOW64; rv:31.0) Gecko/20100101 Firefox/31.0', userId='30')]"
      ]
     },
     "execution_count": 7,
     "metadata": {},
     "output_type": "execute_result"
    }
   ],
   "source": [
    "# observe the data\n",
    "df.take(3)"
   ]
  },
  {
   "cell_type": "code",
   "execution_count": 8,
   "metadata": {},
   "outputs": [
    {
     "name": "stdout",
     "output_type": "stream",
     "text": [
      "+-------+------------------+----------+---------+------+------------------+--------+-----------------+------+-----------------+------+-------+--------------------+-----------------+--------------------+------------------+--------------------+--------------------+-----------------+\n",
      "|summary|            artist|      auth|firstName|gender|     itemInSession|lastName|           length| level|         location|method|   page|        registration|        sessionId|                song|            status|                  ts|           userAgent|           userId|\n",
      "+-------+------------------+----------+---------+------+------------------+--------+-----------------+------+-----------------+------+-------+--------------------+-----------------+--------------------+------------------+--------------------+--------------------+-----------------+\n",
      "|  count|            228108|    286500|   278154|278154|            286500|  278154|           228108|286500|           278154|286500| 286500|              278154|           286500|              228108|            286500|              286500|              278154|           286500|\n",
      "|   mean| 551.0852017937219|      null|     null|  null|114.41421291448516|    null|249.1171819778458|  null|             null|  null|   null|1.535358834084427...|1041.526554973822|            Infinity|210.05459685863875|1.540956889810483...|                null|59682.02278593872|\n",
      "| stddev|1217.7693079161374|      null|     null|  null|129.76726201140994|    null|99.23517921058361|  null|             null|  null|   null| 3.291321616327586E9|726.7762634630741|                 NaN| 31.50507848842214|1.5075439608226302E9|                null|109091.9499991047|\n",
      "|    min|               !!!| Cancelled| Adelaida|     F|                 0|   Adams|          0.78322|  free|       Albany, OR|   GET|  About|       1521380675000|                1|\u001c",
      "ÃÂg ÃÂtti Gr...|               200|       1538352117000|\"Mozilla/5.0 (Mac...|                 |\n",
      "|    max| ÃÂlafur Arnalds|Logged Out|   Zyonna|     M|              1321|  Wright|       3024.66567|  paid|Winston-Salem, NC|   PUT|Upgrade|       1543247354000|             2474|ÃÂau hafa slopp...|               404|       1543799476000|Mozilla/5.0 (comp...|               99|\n",
      "+-------+------------------+----------+---------+------+------------------+--------+-----------------+------+-----------------+------+-------+--------------------+-----------------+--------------------+------------------+--------------------+--------------------+-----------------+\n",
      "\n"
     ]
    }
   ],
   "source": [
    "# get descriptive statistics of the data\n",
    "df.describe().show()"
   ]
  },
  {
   "cell_type": "markdown",
   "metadata": {},
   "source": [
    "### Look at the breakdown of each variable"
   ]
  },
  {
   "cell_type": "code",
   "execution_count": 9,
   "metadata": {},
   "outputs": [
    {
     "name": "stdout",
     "output_type": "stream",
     "text": [
      "+--------------------+-----+\n",
      "|              artist|count|\n",
      "+--------------------+-----+\n",
      "|                null|58392|\n",
      "|       Kings Of Leon| 1841|\n",
      "|            Coldplay| 1813|\n",
      "|Florence + The Ma...| 1236|\n",
      "|       Dwight Yoakam| 1135|\n",
      "|            BjÃÂ¶rk| 1133|\n",
      "|      The Black Keys| 1125|\n",
      "|                Muse| 1090|\n",
      "|       Justin Bieber| 1044|\n",
      "|        Jack Johnson| 1007|\n",
      "|              Eminem|  953|\n",
      "|           Radiohead|  884|\n",
      "|     Alliance Ethnik|  876|\n",
      "|               Train|  854|\n",
      "|        Taylor Swift|  840|\n",
      "|         OneRepublic|  828|\n",
      "|         The Killers|  822|\n",
      "|         Linkin Park|  787|\n",
      "|         Evanescence|  781|\n",
      "|            Harmonia|  729|\n",
      "+--------------------+-----+\n",
      "only showing top 20 rows\n",
      "\n"
     ]
    }
   ],
   "source": [
    "df.groupBy('artist').count().sort(col(\"count\").desc()).show()"
   ]
  },
  {
   "cell_type": "code",
   "execution_count": 10,
   "metadata": {},
   "outputs": [
    {
     "name": "stdout",
     "output_type": "stream",
     "text": [
      "+----------------------+\n",
      "|count(DISTINCT artist)|\n",
      "+----------------------+\n",
      "|                 17655|\n",
      "+----------------------+\n",
      "\n"
     ]
    }
   ],
   "source": [
    "# get a count of how many unique artists are in the data\n",
    "df.select(countDistinct(\"artist\")).show()"
   ]
  },
  {
   "cell_type": "markdown",
   "metadata": {},
   "source": [
    "#### A lot of values are null in regards to the artist name. These may be records in the data where no song is actually played."
   ]
  },
  {
   "cell_type": "code",
   "execution_count": 11,
   "metadata": {},
   "outputs": [
    {
     "name": "stdout",
     "output_type": "stream",
     "text": [
      "+----------+------+\n",
      "|      auth| count|\n",
      "+----------+------+\n",
      "| Logged In|278102|\n",
      "|Logged Out|  8249|\n",
      "|     Guest|    97|\n",
      "| Cancelled|    52|\n",
      "+----------+------+\n",
      "\n"
     ]
    }
   ],
   "source": [
    "df.groupBy('auth').count().sort(col(\"count\").desc()).show()"
   ]
  },
  {
   "cell_type": "markdown",
   "metadata": {},
   "source": [
    "#### Here it is easy to see there were 52 cancellations that will help with churn."
   ]
  },
  {
   "cell_type": "code",
   "execution_count": 12,
   "metadata": {},
   "outputs": [
    {
     "name": "stdout",
     "output_type": "stream",
     "text": [
      "+------+------+\n",
      "|gender| count|\n",
      "+------+------+\n",
      "|     F|154578|\n",
      "|     M|123576|\n",
      "|  null|  8346|\n",
      "+------+------+\n",
      "\n"
     ]
    }
   ],
   "source": [
    "df.groupBy('gender').count().sort(col(\"count\").desc()).show()"
   ]
  },
  {
   "cell_type": "markdown",
   "metadata": {},
   "source": [
    "#### 8,346 records where the gender is null. This will need to be looked into."
   ]
  },
  {
   "cell_type": "code",
   "execution_count": 13,
   "metadata": {},
   "outputs": [
    {
     "name": "stdout",
     "output_type": "stream",
     "text": [
      "+-------------+-----+\n",
      "|itemInSession|count|\n",
      "+-------------+-----+\n",
      "|            0| 3278|\n",
      "|            1| 3125|\n",
      "|            2| 3067|\n",
      "|            3| 3013|\n",
      "|            4| 2977|\n",
      "|            5| 2925|\n",
      "|            6| 2886|\n",
      "|            7| 2857|\n",
      "|            8| 2816|\n",
      "|            9| 2771|\n",
      "|           10| 2717|\n",
      "|           11| 2672|\n",
      "|           12| 2636|\n",
      "|           13| 2600|\n",
      "|           14| 2561|\n",
      "|           15| 2523|\n",
      "|           16| 2497|\n",
      "|           17| 2461|\n",
      "|           18| 2417|\n",
      "|           19| 2381|\n",
      "+-------------+-----+\n",
      "only showing top 20 rows\n",
      "\n"
     ]
    }
   ],
   "source": [
    "df.groupBy('itemInSession').count().sort(col(\"count\").desc()).show()"
   ]
  },
  {
   "cell_type": "code",
   "execution_count": 14,
   "metadata": {},
   "outputs": [
    {
     "name": "stdout",
     "output_type": "stream",
     "text": [
      "+-------+------------------+\n",
      "|summary|     itemInSession|\n",
      "+-------+------------------+\n",
      "|  count|            286500|\n",
      "|   mean|114.41421291448516|\n",
      "| stddev|129.76726201140994|\n",
      "|    min|                 0|\n",
      "|    max|              1321|\n",
      "+-------+------------------+\n",
      "\n"
     ]
    }
   ],
   "source": [
    "# itemInSession looks like a number.\n",
    "# It might be worth analyzing it as such\n",
    "df.describe(\"itemInSession\").show()"
   ]
  },
  {
   "cell_type": "code",
   "execution_count": 15,
   "metadata": {},
   "outputs": [
    {
     "name": "stdout",
     "output_type": "stream",
     "text": [
      "+---------+-----+\n",
      "|   length|count|\n",
      "+---------+-----+\n",
      "|     null|58392|\n",
      "| 239.3073| 1205|\n",
      "|348.57751| 1037|\n",
      "|201.79546|  908|\n",
      "|655.77751|  730|\n",
      "|277.15873|  645|\n",
      "|219.66322|  585|\n",
      "|224.67873|  522|\n",
      "|220.89098|  511|\n",
      "|236.09424|  450|\n",
      "|252.21179|  438|\n",
      "|233.69098|  436|\n",
      "|122.04363|  412|\n",
      "|195.94404|  408|\n",
      "|181.21098|  384|\n",
      "|225.17506|  379|\n",
      "|231.81016|  378|\n",
      "|216.76363|  362|\n",
      "|302.05342|  345|\n",
      "|233.89995|  314|\n",
      "+---------+-----+\n",
      "only showing top 20 rows\n",
      "\n"
     ]
    }
   ],
   "source": [
    "df.groupBy('length').count().sort(col(\"count\").desc()).show()"
   ]
  },
  {
   "cell_type": "code",
   "execution_count": 16,
   "metadata": {},
   "outputs": [
    {
     "name": "stdout",
     "output_type": "stream",
     "text": [
      "+-------+-----------------+\n",
      "|summary|           length|\n",
      "+-------+-----------------+\n",
      "|  count|           228108|\n",
      "|   mean|249.1171819778458|\n",
      "| stddev|99.23517921058361|\n",
      "|    min|          0.78322|\n",
      "|    max|       3024.66567|\n",
      "+-------+-----------------+\n",
      "\n"
     ]
    }
   ],
   "source": [
    "# length looks like a number.\n",
    "# It might be worth analyzing it that way\n",
    "df.describe(\"length\").show()"
   ]
  },
  {
   "cell_type": "markdown",
   "metadata": {},
   "source": [
    "#### That number of 58,392 null values appears again."
   ]
  },
  {
   "cell_type": "code",
   "execution_count": 17,
   "metadata": {},
   "outputs": [
    {
     "name": "stdout",
     "output_type": "stream",
     "text": [
      "+-----+------+\n",
      "|level| count|\n",
      "+-----+------+\n",
      "| paid|228162|\n",
      "| free| 58338|\n",
      "+-----+------+\n",
      "\n"
     ]
    }
   ],
   "source": [
    "df.groupBy('level').count().sort(col(\"count\").desc()).show()"
   ]
  },
  {
   "cell_type": "code",
   "execution_count": 18,
   "metadata": {},
   "outputs": [
    {
     "name": "stdout",
     "output_type": "stream",
     "text": [
      "+--------------------+-----+\n",
      "|            location|count|\n",
      "+--------------------+-----+\n",
      "|Los Angeles-Long ...|30131|\n",
      "|New York-Newark-J...|23684|\n",
      "|Boston-Cambridge-...|13873|\n",
      "|Houston-The Woodl...| 9499|\n",
      "|                null| 8346|\n",
      "|Charlotte-Concord...| 7780|\n",
      "|Dallas-Fort Worth...| 7605|\n",
      "|Louisville/Jeffer...| 6880|\n",
      "|Philadelphia-Camd...| 5890|\n",
      "|Chicago-Napervill...| 5114|\n",
      "|    St. Louis, MO-IL| 4858|\n",
      "|Phoenix-Mesa-Scot...| 4846|\n",
      "|Vineland-Bridgeto...| 4825|\n",
      "|          Wilson, NC| 4659|\n",
      "|Denver-Aurora-Lak...| 4453|\n",
      "|           Ionia, MI| 4428|\n",
      "|San Antonio-New B...| 4373|\n",
      "|        Danville, VA| 4257|\n",
      "|Atlanta-Sandy Spr...| 4236|\n",
      "|New Haven-Milford...| 4007|\n",
      "+--------------------+-----+\n",
      "only showing top 20 rows\n",
      "\n"
     ]
    }
   ],
   "source": [
    "df.groupBy('location').count().sort(col(\"count\").desc()).show()"
   ]
  },
  {
   "cell_type": "code",
   "execution_count": 19,
   "metadata": {},
   "outputs": [
    {
     "name": "stdout",
     "output_type": "stream",
     "text": [
      "+------------------------+\n",
      "|count(DISTINCT location)|\n",
      "+------------------------+\n",
      "|                     114|\n",
      "+------------------------+\n",
      "\n"
     ]
    }
   ],
   "source": [
    "df.select(countDistinct(\"location\")).show()"
   ]
  },
  {
   "cell_type": "markdown",
   "metadata": {},
   "source": [
    "* __That number of 8,346 null values appears again. There must be a pattern to be found.__\n",
    "* __These look like media markets. It might be interesting to look at the locations by state.__"
   ]
  },
  {
   "cell_type": "code",
   "execution_count": 20,
   "metadata": {},
   "outputs": [
    {
     "name": "stdout",
     "output_type": "stream",
     "text": [
      "+------+------+\n",
      "|method| count|\n",
      "+------+------+\n",
      "|   PUT|261064|\n",
      "|   GET| 25436|\n",
      "+------+------+\n",
      "\n"
     ]
    }
   ],
   "source": [
    "df.groupBy('method').count().sort(col(\"count\").desc()).show()"
   ]
  },
  {
   "cell_type": "code",
   "execution_count": 21,
   "metadata": {},
   "outputs": [
    {
     "name": "stdout",
     "output_type": "stream",
     "text": [
      "+--------------------+------+\n",
      "|                page| count|\n",
      "+--------------------+------+\n",
      "|            NextSong|228108|\n",
      "|                Home| 14457|\n",
      "|           Thumbs Up| 12551|\n",
      "|     Add to Playlist|  6526|\n",
      "|          Add Friend|  4277|\n",
      "|         Roll Advert|  3933|\n",
      "|               Login|  3241|\n",
      "|              Logout|  3226|\n",
      "|         Thumbs Down|  2546|\n",
      "|           Downgrade|  2055|\n",
      "|                Help|  1726|\n",
      "|            Settings|  1514|\n",
      "|               About|   924|\n",
      "|             Upgrade|   499|\n",
      "|       Save Settings|   310|\n",
      "|               Error|   258|\n",
      "|      Submit Upgrade|   159|\n",
      "|    Submit Downgrade|    63|\n",
      "|              Cancel|    52|\n",
      "|Cancellation Conf...|    52|\n",
      "+--------------------+------+\n",
      "only showing top 20 rows\n",
      "\n"
     ]
    }
   ],
   "source": [
    "df.groupBy('page').count().sort(col(\"count\").desc()).show()"
   ]
  },
  {
   "cell_type": "markdown",
   "metadata": {},
   "source": [
    "#### Those 52 cancellations show up again and we see each instance of initiating the cancellation process led to a cancellation confirmation. This may be a sign that there is potentially an opportunity where more effort can be put into retaining the subscriber by presenting a special offer or discount."
   ]
  },
  {
   "cell_type": "code",
   "execution_count": 22,
   "metadata": {},
   "outputs": [
    {
     "name": "stdout",
     "output_type": "stream",
     "text": [
      "+-------------+-----+\n",
      "| registration|count|\n",
      "+-------------+-----+\n",
      "|1529027541000| 9632|\n",
      "|         null| 8346|\n",
      "|1536403972000| 7230|\n",
      "|1536642109000| 6880|\n",
      "|1538336771000| 5732|\n",
      "|1532224335000| 4825|\n",
      "|1537611935000| 4659|\n",
      "|1537082511000| 4428|\n",
      "|1534133898000| 4370|\n",
      "|1537811988000| 4257|\n",
      "|1537812949000| 3769|\n",
      "|1521380675000| 3761|\n",
      "|1536988041000| 3603|\n",
      "|1532482662000| 3437|\n",
      "|1537982255000| 3214|\n",
      "|1538331630000| 3191|\n",
      "|1538227408000| 3102|\n",
      "|1528780738000| 3051|\n",
      "|1533398428000| 3014|\n",
      "|1538069638000| 2891|\n",
      "+-------------+-----+\n",
      "only showing top 20 rows\n",
      "\n"
     ]
    }
   ],
   "source": [
    "df.groupBy('registration').count().sort(col(\"count\").desc()).show()"
   ]
  },
  {
   "cell_type": "code",
   "execution_count": 23,
   "metadata": {},
   "outputs": [
    {
     "name": "stdout",
     "output_type": "stream",
     "text": [
      "+---------+-----+\n",
      "|sessionId|count|\n",
      "+---------+-----+\n",
      "|     1840| 1322|\n",
      "|      316| 1247|\n",
      "|      236|  905|\n",
      "|      635|  890|\n",
      "|      368|  799|\n",
      "|      123|  782|\n",
      "|       76|  775|\n",
      "|      731|  773|\n",
      "|      436|  749|\n",
      "|      344|  730|\n",
      "|      827|  714|\n",
      "|        1|  714|\n",
      "|      377|  706|\n",
      "|     2305|  701|\n",
      "|      132|  677|\n",
      "|     2056|  677|\n",
      "|     1483|  671|\n",
      "|      479|  669|\n",
      "|     1150|  657|\n",
      "|     2150|  655|\n",
      "+---------+-----+\n",
      "only showing top 20 rows\n",
      "\n"
     ]
    }
   ],
   "source": [
    "df.groupBy('sessionId').count().sort(col(\"count\").desc()).show()"
   ]
  },
  {
   "cell_type": "code",
   "execution_count": 24,
   "metadata": {},
   "outputs": [
    {
     "name": "stdout",
     "output_type": "stream",
     "text": [
      "+--------------------+-----+\n",
      "|                song|count|\n",
      "+--------------------+-----+\n",
      "|                null|58392|\n",
      "|      You're The One| 1153|\n",
      "|                Undo| 1026|\n",
      "|             Revelry|  854|\n",
      "|       Sehr kosmisch|  728|\n",
      "|Horn Concerto No....|  641|\n",
      "|Dog Days Are Over...|  574|\n",
      "|             Secrets|  466|\n",
      "|        Use Somebody|  459|\n",
      "|              Canada|  435|\n",
      "|             Invalid|  424|\n",
      "|    Ain't Misbehavin|  409|\n",
      "|       ReprÃÂ©sente|  393|\n",
      "|SinceritÃÂ© Et J...|  384|\n",
      "|Catch You Baby (S...|  373|\n",
      "|              Yellow|  343|\n",
      "|    Somebody To Love|  343|\n",
      "|    Hey_ Soul Sister|  334|\n",
      "|            The Gift|  327|\n",
      "|           Fireflies|  312|\n",
      "+--------------------+-----+\n",
      "only showing top 20 rows\n",
      "\n"
     ]
    }
   ],
   "source": [
    "df.groupBy('song').count().sort(col(\"count\").desc()).show()"
   ]
  },
  {
   "cell_type": "code",
   "execution_count": 25,
   "metadata": {},
   "outputs": [
    {
     "name": "stdout",
     "output_type": "stream",
     "text": [
      "+------+------+\n",
      "|status| count|\n",
      "+------+------+\n",
      "|   200|259812|\n",
      "|   307| 26430|\n",
      "|   404|   258|\n",
      "+------+------+\n",
      "\n"
     ]
    }
   ],
   "source": [
    "df.groupBy('status').count().sort(col(\"count\").desc()).show()"
   ]
  },
  {
   "cell_type": "code",
   "execution_count": 26,
   "metadata": {},
   "outputs": [
    {
     "name": "stdout",
     "output_type": "stream",
     "text": [
      "+-------------+-----+\n",
      "|           ts|count|\n",
      "+-------------+-----+\n",
      "|1543376608000|    4|\n",
      "|1542848987000|    4|\n",
      "|1538786140000|    4|\n",
      "|1542663435000|    3|\n",
      "|1538778922000|    3|\n",
      "|1541101796000|    3|\n",
      "|1539247652000|    3|\n",
      "|1539996675000|    3|\n",
      "|1541518229000|    3|\n",
      "|1539682547000|    3|\n",
      "|1538512769000|    3|\n",
      "|1540456067000|    3|\n",
      "|1540869687000|    3|\n",
      "|1542820461000|    3|\n",
      "|1538858551000|    3|\n",
      "|1538832860000|    3|\n",
      "|1541544871000|    3|\n",
      "|1541682160000|    3|\n",
      "|1541526859000|    3|\n",
      "|1539721234000|    3|\n",
      "+-------------+-----+\n",
      "only showing top 20 rows\n",
      "\n"
     ]
    }
   ],
   "source": [
    "df.groupBy('ts').count().sort(col(\"count\").desc()).show()"
   ]
  },
  {
   "cell_type": "code",
   "execution_count": 27,
   "metadata": {},
   "outputs": [
    {
     "name": "stdout",
     "output_type": "stream",
     "text": [
      "+--------------------+-----+\n",
      "|           userAgent|count|\n",
      "+--------------------+-----+\n",
      "|\"Mozilla/5.0 (Win...|22751|\n",
      "|\"Mozilla/5.0 (Mac...|19611|\n",
      "|\"Mozilla/5.0 (Mac...|18448|\n",
      "|\"Mozilla/5.0 (Mac...|17348|\n",
      "|Mozilla/5.0 (Wind...|16700|\n",
      "|\"Mozilla/5.0 (Win...|15395|\n",
      "|\"Mozilla/5.0 (Win...|14598|\n",
      "|Mozilla/5.0 (Maci...|10300|\n",
      "|\"Mozilla/5.0 (iPa...| 8912|\n",
      "|Mozilla/5.0 (comp...| 8624|\n",
      "|                null| 8346|\n",
      "|\"Mozilla/5.0 (Mac...| 8094|\n",
      "|\"Mozilla/5.0 (Win...| 7923|\n",
      "|\"Mozilla/5.0 (Mac...| 7906|\n",
      "|\"Mozilla/5.0 (Win...| 7624|\n",
      "|\"Mozilla/5.0 (iPh...| 6417|\n",
      "|Mozilla/5.0 (Wind...| 5989|\n",
      "|\"Mozilla/5.0 (Mac...| 5716|\n",
      "|\"Mozilla/5.0 (Win...| 5238|\n",
      "|\"Mozilla/5.0 (Win...| 4917|\n",
      "|Mozilla/5.0 (Wind...| 4663|\n",
      "|\"Mozilla/5.0 (Win...| 4103|\n",
      "|Mozilla/5.0 (Wind...| 3655|\n",
      "|Mozilla/5.0 (Wind...| 3214|\n",
      "|\"Mozilla/5.0 (Win...| 2868|\n",
      "|\"Mozilla/5.0 (X11...| 2842|\n",
      "|\"Mozilla/5.0 (Mac...| 2804|\n",
      "|\"Mozilla/5.0 (iPh...| 2799|\n",
      "|Mozilla/5.0 (X11;...| 2544|\n",
      "|\"Mozilla/5.0 (iPa...| 2469|\n",
      "|Mozilla/5.0 (Wind...| 2442|\n",
      "|Mozilla/5.0 (Maci...| 2442|\n",
      "|\"Mozilla/5.0 (Win...| 2174|\n",
      "|\"Mozilla/5.0 (Win...| 2168|\n",
      "|Mozilla/5.0 (Wind...| 2149|\n",
      "|\"Mozilla/5.0 (Win...| 2132|\n",
      "|\"Mozilla/5.0 (Mac...| 2067|\n",
      "|\"Mozilla/5.0 (iPh...| 1976|\n",
      "|Mozilla/5.0 (Maci...| 1950|\n",
      "|Mozilla/5.0 (X11;...| 1874|\n",
      "|\"Mozilla/5.0 (X11...| 1639|\n",
      "|\"Mozilla/5.0 (Mac...| 1322|\n",
      "|\"Mozilla/5.0 (Mac...| 1262|\n",
      "|Mozilla/5.0 (comp...| 1245|\n",
      "|Mozilla/5.0 (Wind...| 1102|\n",
      "|\"Mozilla/5.0 (Mac...| 1102|\n",
      "|Mozilla/5.0 (Wind...|  972|\n",
      "|Mozilla/5.0 (comp...|  815|\n",
      "|\"Mozilla/5.0 (Mac...|  573|\n",
      "|\"Mozilla/5.0 (Mac...|  512|\n",
      "|\"Mozilla/5.0 (Win...|  410|\n",
      "|\"Mozilla/5.0 (Mac...|  379|\n",
      "|Mozilla/5.0 (Maci...|  251|\n",
      "|\"Mozilla/5.0 (Mac...|  240|\n",
      "|\"Mozilla/5.0 (Mac...|  235|\n",
      "|\"Mozilla/5.0 (Mac...|  187|\n",
      "|Mozilla/5.0 (X11;...|   62|\n",
      "+--------------------+-----+\n",
      "\n"
     ]
    }
   ],
   "source": [
    "df.groupBy('userAgent').count().sort(col(\"count\").desc()).show(57)"
   ]
  },
  {
   "cell_type": "markdown",
   "metadata": {},
   "source": [
    "#### These values look very similar and may not be too important."
   ]
  },
  {
   "cell_type": "code",
   "execution_count": 28,
   "metadata": {},
   "outputs": [
    {
     "data": {
      "text/plain": [
       "[Row(userAgent='\"Mozilla/5.0 (Windows NT 6.1; WOW64) AppleWebKit/537.36 (KHTML, like Gecko) Chrome/36.0.1985.143 Safari/537.36\"', count=22751),\n",
       " Row(userAgent='\"Mozilla/5.0 (Macintosh; Intel Mac OS X 10_9_4) AppleWebKit/537.77.4 (KHTML, like Gecko) Version/7.0.5 Safari/537.77.4\"', count=19611),\n",
       " Row(userAgent='\"Mozilla/5.0 (Macintosh; Intel Mac OS X 10_9_4) AppleWebKit/537.36 (KHTML, like Gecko) Chrome/36.0.1985.125 Safari/537.36\"', count=18448),\n",
       " Row(userAgent='\"Mozilla/5.0 (Macintosh; Intel Mac OS X 10_9_4) AppleWebKit/537.36 (KHTML, like Gecko) Chrome/36.0.1985.143 Safari/537.36\"', count=17348),\n",
       " Row(userAgent='Mozilla/5.0 (Windows NT 6.1; WOW64; rv:31.0) Gecko/20100101 Firefox/31.0', count=16700),\n",
       " Row(userAgent='\"Mozilla/5.0 (Windows NT 6.1; WOW64) AppleWebKit/537.36 (KHTML, like Gecko) Chrome/36.0.1985.125 Safari/537.36\"', count=15395),\n",
       " Row(userAgent='\"Mozilla/5.0 (Windows NT 6.1; WOW64) AppleWebKit/537.36 (KHTML, like Gecko) Chrome/37.0.2062.103 Safari/537.36\"', count=14598),\n",
       " Row(userAgent='Mozilla/5.0 (Macintosh; Intel Mac OS X 10.9; rv:31.0) Gecko/20100101 Firefox/31.0', count=10300),\n",
       " Row(userAgent='\"Mozilla/5.0 (iPad; CPU OS 7_1_2 like Mac OS X) AppleWebKit/537.51.2 (KHTML, like Gecko) Version/7.0 Mobile/11D257 Safari/9537.53\"', count=8912),\n",
       " Row(userAgent='Mozilla/5.0 (compatible; MSIE 9.0; Windows NT 6.1; WOW64; Trident/5.0)', count=8624),\n",
       " Row(userAgent=None, count=8346),\n",
       " Row(userAgent='\"Mozilla/5.0 (Macintosh; Intel Mac OS X 10_9_4) AppleWebKit/537.78.2 (KHTML, like Gecko) Version/7.0.6 Safari/537.78.2\"', count=8094),\n",
       " Row(userAgent='\"Mozilla/5.0 (Windows NT 6.1) AppleWebKit/537.36 (KHTML, like Gecko) Chrome/36.0.1985.143 Safari/537.36\"', count=7923),\n",
       " Row(userAgent='\"Mozilla/5.0 (Macintosh; Intel Mac OS X 10_9_4) AppleWebKit/537.36 (KHTML, like Gecko) Chrome/37.0.2062.94 Safari/537.36\"', count=7906),\n",
       " Row(userAgent='\"Mozilla/5.0 (Windows NT 6.3; WOW64) AppleWebKit/537.36 (KHTML, like Gecko) Chrome/36.0.1985.143 Safari/537.36\"', count=7624),\n",
       " Row(userAgent='\"Mozilla/5.0 (iPhone; CPU iPhone OS 7_1_2 like Mac OS X) AppleWebKit/537.51.2 (KHTML, like Gecko) Version/7.0 Mobile/11D257 Safari/9537.53\"', count=6417),\n",
       " Row(userAgent='Mozilla/5.0 (Windows NT 6.3; WOW64; rv:31.0) Gecko/20100101 Firefox/31.0', count=5989),\n",
       " Row(userAgent='\"Mozilla/5.0 (Macintosh; Intel Mac OS X 10_10) AppleWebKit/600.1.8 (KHTML, like Gecko) Version/8.0 Safari/600.1.8\"', count=5716),\n",
       " Row(userAgent='\"Mozilla/5.0 (Windows NT 5.1) AppleWebKit/537.36 (KHTML, like Gecko) Chrome/36.0.1985.143 Safari/537.36\"', count=5238),\n",
       " Row(userAgent='\"Mozilla/5.0 (Windows NT 6.3; WOW64) AppleWebKit/537.36 (KHTML, like Gecko) Chrome/36.0.1985.125 Safari/537.36\"', count=4917),\n",
       " Row(userAgent='Mozilla/5.0 (Windows NT 6.1; WOW64; Trident/7.0; rv:11.0) like Gecko', count=4663),\n",
       " Row(userAgent='\"Mozilla/5.0 (Windows NT 6.1; WOW64) AppleWebKit/537.36 (KHTML, like Gecko) Chrome/37.0.2062.94 Safari/537.36\"', count=4103),\n",
       " Row(userAgent='Mozilla/5.0 (Windows NT 6.1; WOW64; rv:32.0) Gecko/20100101 Firefox/32.0', count=3655),\n",
       " Row(userAgent='Mozilla/5.0 (Windows NT 6.1; WOW64; rv:30.0) Gecko/20100101 Firefox/30.0', count=3214),\n",
       " Row(userAgent='\"Mozilla/5.0 (Windows NT 6.2; WOW64) AppleWebKit/537.36 (KHTML, like Gecko) Chrome/36.0.1985.125 Safari/537.36\"', count=2868),\n",
       " Row(userAgent='\"Mozilla/5.0 (X11; Linux x86_64) AppleWebKit/537.36 (KHTML, like Gecko) Chrome/36.0.1985.143 Safari/537.36\"', count=2842),\n",
       " Row(userAgent='\"Mozilla/5.0 (Macintosh; Intel Mac OS X 10_9_2) AppleWebKit/537.36 (KHTML, like Gecko) Chrome/36.0.1985.125 Safari/537.36\"', count=2804),\n",
       " Row(userAgent='\"Mozilla/5.0 (iPhone; CPU iPhone OS 7_1 like Mac OS X) AppleWebKit/537.51.2 (KHTML, like Gecko) Version/7.0 Mobile/11D167 Safari/9537.53\"', count=2799),\n",
       " Row(userAgent='Mozilla/5.0 (X11; Linux x86_64; rv:31.0) Gecko/20100101 Firefox/31.0', count=2544),\n",
       " Row(userAgent='\"Mozilla/5.0 (iPad; CPU OS 7_1_1 like Mac OS X) AppleWebKit/537.51.2 (KHTML, like Gecko) Version/7.0 Mobile/11D201 Safari/9537.53\"', count=2469),\n",
       " Row(userAgent='Mozilla/5.0 (Windows NT 6.0; rv:31.0) Gecko/20100101 Firefox/31.0', count=2442),\n",
       " Row(userAgent='Mozilla/5.0 (Macintosh; Intel Mac OS X 10.7; rv:31.0) Gecko/20100101 Firefox/31.0', count=2442),\n",
       " Row(userAgent='\"Mozilla/5.0 (Windows NT 6.1; WOW64) AppleWebKit/537.36 (KHTML, like Gecko) Chrome/35.0.1916.153 Safari/537.36\"', count=2174),\n",
       " Row(userAgent='\"Mozilla/5.0 (Windows NT 5.1) AppleWebKit/537.36 (KHTML, like Gecko) Chrome/36.0.1985.125 Safari/537.36\"', count=2168),\n",
       " Row(userAgent='Mozilla/5.0 (Windows NT 6.2; WOW64; rv:31.0) Gecko/20100101 Firefox/31.0', count=2149),\n",
       " Row(userAgent='\"Mozilla/5.0 (Windows NT 6.1) AppleWebKit/537.36 (KHTML, like Gecko) Chrome/36.0.1985.125 Safari/537.36\"', count=2132),\n",
       " Row(userAgent='\"Mozilla/5.0 (Macintosh; Intel Mac OS X 10_9_3) AppleWebKit/537.76.4 (KHTML, like Gecko) Version/7.0.4 Safari/537.76.4\"', count=2067),\n",
       " Row(userAgent='\"Mozilla/5.0 (iPhone; CPU iPhone OS 7_1_1 like Mac OS X) AppleWebKit/537.51.2 (KHTML, like Gecko) Version/7.0 Mobile/11D201 Safari/9537.53\"', count=1976),\n",
       " Row(userAgent='Mozilla/5.0 (Macintosh; Intel Mac OS X 10.8; rv:31.0) Gecko/20100101 Firefox/31.0', count=1950),\n",
       " Row(userAgent='Mozilla/5.0 (X11; Ubuntu; Linux x86_64; rv:31.0) Gecko/20100101 Firefox/31.0', count=1874),\n",
       " Row(userAgent='\"Mozilla/5.0 (X11; Linux x86_64) AppleWebKit/537.36 (KHTML, like Gecko) Chrome/36.0.1985.125 Safari/537.36\"', count=1639),\n",
       " Row(userAgent='\"Mozilla/5.0 (Macintosh; Intel Mac OS X 10_10) AppleWebKit/600.1.3 (KHTML, like Gecko) Version/8.0 Safari/600.1.3\"', count=1322),\n",
       " Row(userAgent='\"Mozilla/5.0 (Macintosh; Intel Mac OS X 10_9_4) AppleWebKit/537.36 (KHTML, like Gecko) Chrome/35.0.1916.153 Safari/537.36\"', count=1262),\n",
       " Row(userAgent='Mozilla/5.0 (compatible; MSIE 9.0; Windows NT 6.1; Trident/5.0)', count=1245),\n",
       " Row(userAgent='Mozilla/5.0 (Windows NT 6.1; WOW64; rv:24.0) Gecko/20100101 Firefox/24.0', count=1102),\n",
       " Row(userAgent='\"Mozilla/5.0 (Macintosh; Intel Mac OS X 10_9_2) AppleWebKit/537.74.9 (KHTML, like Gecko) Version/7.0.2 Safari/537.74.9\"', count=1102),\n",
       " Row(userAgent='Mozilla/5.0 (Windows NT 6.1; rv:31.0) Gecko/20100101 Firefox/31.0', count=972),\n",
       " Row(userAgent='Mozilla/5.0 (compatible; MSIE 10.0; Windows NT 6.1; WOW64; Trident/6.0)', count=815),\n",
       " Row(userAgent='\"Mozilla/5.0 (Macintosh; Intel Mac OS X 10_7_5) AppleWebKit/537.77.4 (KHTML, like Gecko) Version/6.1.5 Safari/537.77.4\"', count=573),\n",
       " Row(userAgent='\"Mozilla/5.0 (Macintosh; Intel Mac OS X 10_9_2) AppleWebKit/537.75.14 (KHTML, like Gecko) Version/7.0.3 Safari/537.75.14\"', count=512),\n",
       " Row(userAgent='\"Mozilla/5.0 (Windows NT 6.2; WOW64) AppleWebKit/537.36 (KHTML, like Gecko) Chrome/36.0.1985.143 Safari/537.36\"', count=410),\n",
       " Row(userAgent='\"Mozilla/5.0 (Macintosh; Intel Mac OS X 10_7_5) AppleWebKit/537.36 (KHTML, like Gecko) Chrome/36.0.1985.125 Safari/537.36\"', count=379),\n",
       " Row(userAgent='Mozilla/5.0 (Macintosh; Intel Mac OS X 10.6; rv:31.0) Gecko/20100101 Firefox/31.0', count=251),\n",
       " Row(userAgent='\"Mozilla/5.0 (Macintosh; Intel Mac OS X 10_8_5) AppleWebKit/537.36 (KHTML, like Gecko) Chrome/36.0.1985.143 Safari/537.36\"', count=240),\n",
       " Row(userAgent='\"Mozilla/5.0 (Macintosh; Intel Mac OS X 10_8_5) AppleWebKit/537.36 (KHTML, like Gecko) Chrome/37.0.2062.94 Safari/537.36\"', count=235),\n",
       " Row(userAgent='\"Mozilla/5.0 (Macintosh; Intel Mac OS X 10_6_8) AppleWebKit/537.36 (KHTML, like Gecko) Chrome/36.0.1985.143 Safari/537.36\"', count=187),\n",
       " Row(userAgent='Mozilla/5.0 (X11; Ubuntu; Linux i686; rv:31.0) Gecko/20100101 Firefox/31.0', count=62)]"
      ]
     },
     "execution_count": 28,
     "metadata": {},
     "output_type": "execute_result"
    }
   ],
   "source": [
    "df.groupBy('userAgent').count().sort(col(\"count\").desc()).take(57)"
   ]
  },
  {
   "cell_type": "markdown",
   "metadata": {},
   "source": [
    "#### Looking closer, we should be able to extract the browser within the first set of parentheses and the first word before the \";\". The values still may not tell us much and may be a candidate for being dropped, but we'll engineer a feature from this column."
   ]
  },
  {
   "cell_type": "markdown",
   "metadata": {},
   "source": [
    "### Missingness"
   ]
  },
  {
   "cell_type": "code",
   "execution_count": 29,
   "metadata": {},
   "outputs": [
    {
     "name": "stdout",
     "output_type": "stream",
     "text": [
      "+------+----+---------+------+-------------+--------+------+-----+--------+------+----+------------+---------+-----+------+---+---------+------+\n",
      "|artist|auth|firstName|gender|itemInSession|lastName|length|level|location|method|page|registration|sessionId| song|status| ts|userAgent|userId|\n",
      "+------+----+---------+------+-------------+--------+------+-----+--------+------+----+------------+---------+-----+------+---+---------+------+\n",
      "| 58392|   0|     8346|  8346|            0|    8346| 58392|    0|    8346|     0|   0|        8346|        0|58392|     0|  0|     8346|     0|\n",
      "+------+----+---------+------+-------------+--------+------+-----+--------+------+----+------------+---------+-----+------+---+---------+------+\n",
      "\n"
     ]
    }
   ],
   "source": [
    "# Count the numer of missing records for each column\n",
    "df.select([count(when(isnull(c), c)).alias(c) for c in df.columns]).show()"
   ]
  },
  {
   "cell_type": "code",
   "execution_count": 30,
   "metadata": {},
   "outputs": [
    {
     "name": "stdout",
     "output_type": "stream",
     "text": [
      "8346\n",
      "+------+----------+---------+------+-------------+--------+------+-----+--------+------+-----+------------+---------+----+------+-------------+---------+------+\n",
      "|artist|      auth|firstName|gender|itemInSession|lastName|length|level|location|method| page|registration|sessionId|song|status|           ts|userAgent|userId|\n",
      "+------+----------+---------+------+-------------+--------+------+-----+--------+------+-----+------------+---------+----+------+-------------+---------+------+\n",
      "|  null|Logged Out|     null|  null|          100|    null|  null| free|    null|   GET| Home|        null|        8|null|   200|1538355745000|     null|      |\n",
      "|  null|Logged Out|     null|  null|          101|    null|  null| free|    null|   GET| Help|        null|        8|null|   200|1538355807000|     null|      |\n",
      "|  null|Logged Out|     null|  null|          102|    null|  null| free|    null|   GET| Home|        null|        8|null|   200|1538355841000|     null|      |\n",
      "|  null|Logged Out|     null|  null|          103|    null|  null| free|    null|   PUT|Login|        null|        8|null|   307|1538355842000|     null|      |\n",
      "|  null|Logged Out|     null|  null|            2|    null|  null| free|    null|   GET| Home|        null|      240|null|   200|1538356678000|     null|      |\n",
      "|  null|Logged Out|     null|  null|            3|    null|  null| free|    null|   PUT|Login|        null|      240|null|   307|1538356679000|     null|      |\n",
      "|  null|Logged Out|     null|  null|            0|    null|  null| free|    null|   PUT|Login|        null|      100|null|   307|1538358102000|     null|      |\n",
      "|  null|Logged Out|     null|  null|            0|    null|  null| free|    null|   PUT|Login|        null|      241|null|   307|1538360117000|     null|      |\n",
      "|  null|Logged Out|     null|  null|           14|    null|  null| free|    null|   GET| Home|        null|      187|null|   200|1538361527000|     null|      |\n",
      "|  null|Logged Out|     null|  null|           15|    null|  null| free|    null|   PUT|Login|        null|      187|null|   307|1538361528000|     null|      |\n",
      "|  null|Logged Out|     null|  null|           21|    null|  null| free|    null|   GET| Home|        null|      187|null|   200|1538362007000|     null|      |\n",
      "|  null|Logged Out|     null|  null|           22|    null|  null| free|    null|   GET| Home|        null|      187|null|   200|1538362095000|     null|      |\n",
      "|  null|Logged Out|     null|  null|           23|    null|  null| free|    null|   PUT|Login|        null|      187|null|   307|1538362096000|     null|      |\n",
      "|  null|Logged Out|     null|  null|            0|    null|  null| free|    null|   GET| Home|        null|       27|null|   200|1538363488000|     null|      |\n",
      "|  null|Logged Out|     null|  null|            1|    null|  null| free|    null|   GET|About|        null|       27|null|   200|1538363494000|     null|      |\n",
      "|  null|Logged Out|     null|  null|            2|    null|  null| free|    null|   GET| Home|        null|       27|null|   200|1538363503000|     null|      |\n",
      "|  null|Logged Out|     null|  null|           38|    null|  null| free|    null|   GET| Home|        null|      187|null|   200|1538364254000|     null|      |\n",
      "|  null|Logged Out|     null|  null|           39|    null|  null| free|    null|   PUT|Login|        null|      187|null|   307|1538364255000|     null|      |\n",
      "|  null|Logged Out|     null|  null|            0|    null|  null| free|    null|   GET| Home|        null|      257|null|   200|1538364750000|     null|      |\n",
      "|  null|Logged Out|     null|  null|           47|    null|  null| free|    null|   GET| Home|        null|      100|null|   200|1538370681000|     null|      |\n",
      "+------+----------+---------+------+-------------+--------+------+-----+--------+------+-----+------------+---------+----+------+-------------+---------+------+\n",
      "only showing top 20 rows\n",
      "\n"
     ]
    }
   ],
   "source": [
    "# Take a look at the records where the user's name, gender, etc. is null\n",
    "print(df.filter(df.firstName.isNull()).count())\n",
    "df.filter(df.firstName.isNull()).show()"
   ]
  },
  {
   "cell_type": "markdown",
   "metadata": {},
   "source": [
    "#### It looks like userId is missing for these records"
   ]
  },
  {
   "cell_type": "code",
   "execution_count": 31,
   "metadata": {},
   "outputs": [
    {
     "name": "stdout",
     "output_type": "stream",
     "text": [
      "+------+-----+\n",
      "|userId|count|\n",
      "+------+-----+\n",
      "|      | 8346|\n",
      "+------+-----+\n",
      "\n"
     ]
    }
   ],
   "source": [
    "df.filter(df.firstName.isNull()).groupBy('userId').count().show()"
   ]
  },
  {
   "cell_type": "code",
   "execution_count": 32,
   "metadata": {},
   "outputs": [
    {
     "name": "stdout",
     "output_type": "stream",
     "text": [
      "+----------+-----+\n",
      "|      auth|count|\n",
      "+----------+-----+\n",
      "|Logged Out| 8249|\n",
      "|     Guest|   97|\n",
      "+----------+-----+\n",
      "\n"
     ]
    }
   ],
   "source": [
    "# look at the levels for the records missing user info\n",
    "df.filter(df.firstName.isNull()).groupBy('auth').count().show()"
   ]
  },
  {
   "cell_type": "code",
   "execution_count": 33,
   "metadata": {},
   "outputs": [
    {
     "name": "stdout",
     "output_type": "stream",
     "text": [
      "+------+-----+\n",
      "|artist|count|\n",
      "+------+-----+\n",
      "|  null| 8346|\n",
      "+------+-----+\n",
      "\n"
     ]
    }
   ],
   "source": [
    "df.filter(df.firstName.isNull()).groupBy('artist').count().show()"
   ]
  },
  {
   "cell_type": "code",
   "execution_count": 34,
   "metadata": {},
   "outputs": [
    {
     "name": "stdout",
     "output_type": "stream",
     "text": [
      "+-------------------+-----+\n",
      "|               page|count|\n",
      "+-------------------+-----+\n",
      "|               Home| 4375|\n",
      "|              About|  429|\n",
      "|Submit Registration|    5|\n",
      "|              Login| 3241|\n",
      "|           Register|   18|\n",
      "|               Help|  272|\n",
      "|              Error|    6|\n",
      "+-------------------+-----+\n",
      "\n"
     ]
    }
   ],
   "source": [
    "df.filter(df.firstName.isNull()).groupBy('page').count().show()"
   ]
  },
  {
   "cell_type": "markdown",
   "metadata": {},
   "source": [
    "#### It's clear to see the missingness is a trend and is consistent. The null values that exist in one column seem to align in other columns. There is no user information because these appear to be general actions before an user is actually logged in or they're guests. No song information is available either. These records will be dropped since they cannot help us identifying churn with the userId missing."
   ]
  },
  {
   "cell_type": "code",
   "execution_count": 35,
   "metadata": {},
   "outputs": [
    {
     "name": "stdout",
     "output_type": "stream",
     "text": [
      "58392\n",
      "+------+----------+---------+------+-------------+--------+------+-----+--------------------+------+---------------+-------------+---------+----+------+-------------+--------------------+------+\n",
      "|artist|      auth|firstName|gender|itemInSession|lastName|length|level|            location|method|           page| registration|sessionId|song|status|           ts|           userAgent|userId|\n",
      "+------+----------+---------+------+-------------+--------+------+-----+--------------------+------+---------------+-------------+---------+----+------+-------------+--------------------+------+\n",
      "|  null| Logged In|    Colin|     M|           54| Freeman|  null| paid|     Bakersfield, CA|   PUT|Add to Playlist|1538173362000|       29|null|   200|1538352905000|Mozilla/5.0 (Wind...|    30|\n",
      "|  null| Logged In|    Micah|     M|           84|    Long|  null| free|Boston-Cambridge-...|   GET|    Roll Advert|1538331630000|        8|null|   200|1538353150000|\"Mozilla/5.0 (Win...|     9|\n",
      "|  null| Logged In|    Micah|     M|           86|    Long|  null| free|Boston-Cambridge-...|   PUT|      Thumbs Up|1538331630000|        8|null|   307|1538353376000|\"Mozilla/5.0 (Win...|     9|\n",
      "|  null| Logged In|    Alexi|     F|            4|  Warren|  null| paid|Spokane-Spokane V...|   GET|      Downgrade|1532482662000|       53|null|   200|1538354749000|Mozilla/5.0 (Wind...|    54|\n",
      "|  null| Logged In|    Alexi|     F|            7|  Warren|  null| paid|Spokane-Spokane V...|   PUT|      Thumbs Up|1532482662000|       53|null|   307|1538355255000|Mozilla/5.0 (Wind...|    54|\n",
      "|  null| Logged In|    Micah|     M|           95|    Long|  null| free|Boston-Cambridge-...|   PUT|    Thumbs Down|1538331630000|        8|null|   307|1538355306000|\"Mozilla/5.0 (Win...|     9|\n",
      "|  null| Logged In|    Micah|     M|           97|    Long|  null| free|Boston-Cambridge-...|   GET|           Home|1538331630000|        8|null|   200|1538355504000|\"Mozilla/5.0 (Win...|     9|\n",
      "|  null| Logged In|    Micah|     M|           99|    Long|  null| free|Boston-Cambridge-...|   PUT|         Logout|1538331630000|        8|null|   307|1538355687000|\"Mozilla/5.0 (Win...|     9|\n",
      "|  null| Logged In|  Ashlynn|     F|            9|Williams|  null| free|     Tallahassee, FL|   PUT|      Thumbs Up|1537365219000|      217|null|   307|1538355711000|\"Mozilla/5.0 (Mac...|    74|\n",
      "|  null|Logged Out|     null|  null|          100|    null|  null| free|                null|   GET|           Home|         null|        8|null|   200|1538355745000|                null|      |\n",
      "|  null|Logged Out|     null|  null|          101|    null|  null| free|                null|   GET|           Help|         null|        8|null|   200|1538355807000|                null|      |\n",
      "|  null|Logged Out|     null|  null|          102|    null|  null| free|                null|   GET|           Home|         null|        8|null|   200|1538355841000|                null|      |\n",
      "|  null|Logged Out|     null|  null|          103|    null|  null| free|                null|   PUT|          Login|         null|        8|null|   307|1538355842000|                null|      |\n",
      "|  null| Logged In|    Micah|     M|          104|    Long|  null| free|Boston-Cambridge-...|   GET|           Home|1538331630000|        8|null|   200|1538355855000|\"Mozilla/5.0 (Win...|     9|\n",
      "|  null| Logged In|    Colin|     M|           71| Freeman|  null| paid|     Bakersfield, CA|   PUT|    Thumbs Down|1538173362000|       29|null|   307|1538356524000|Mozilla/5.0 (Wind...|    30|\n",
      "|  null| Logged In|   Warren|     M|            1|  Miller|  null| free|Baltimore-Columbi...|   PUT|         Logout|1538169823000|      240|null|   307|1538356651000|Mozilla/5.0 (Wind...|     4|\n",
      "|  null|Logged Out|     null|  null|            2|    null|  null| free|                null|   GET|           Home|         null|      240|null|   200|1538356678000|                null|      |\n",
      "|  null|Logged Out|     null|  null|            3|    null|  null| free|                null|   PUT|          Login|         null|      240|null|   307|1538356679000|                null|      |\n",
      "|  null| Logged In|   Warren|     M|            4|  Miller|  null| free|Baltimore-Columbi...|   GET|           Home|1538169823000|      240|null|   200|1538356686000|Mozilla/5.0 (Wind...|     4|\n",
      "|  null| Logged In|  Ashlynn|     F|           15|Williams|  null| free|     Tallahassee, FL|   PUT|Add to Playlist|1537365219000|      217|null|   200|1538356816000|\"Mozilla/5.0 (Mac...|    74|\n",
      "+------+----------+---------+------+-------------+--------+------+-----+--------------------+------+---------------+-------------+---------+----+------+-------------+--------------------+------+\n",
      "only showing top 20 rows\n",
      "\n"
     ]
    }
   ],
   "source": [
    "# Take a look at the records where the song's name is null\n",
    "print(df.filter(df.song.isNull()).count())\n",
    "df.filter(df.song.isNull()).show()"
   ]
  },
  {
   "cell_type": "code",
   "execution_count": 36,
   "metadata": {},
   "outputs": [
    {
     "name": "stdout",
     "output_type": "stream",
     "text": [
      "+------+-----+\n",
      "|artist|count|\n",
      "+------+-----+\n",
      "|  null|58392|\n",
      "+------+-----+\n",
      "\n"
     ]
    }
   ],
   "source": [
    "df.filter(df.song.isNull()).groupBy('artist').count().show()"
   ]
  },
  {
   "cell_type": "code",
   "execution_count": 37,
   "metadata": {},
   "outputs": [
    {
     "name": "stdout",
     "output_type": "stream",
     "text": [
      "+----------+-----+\n",
      "|      auth|count|\n",
      "+----------+-----+\n",
      "|Logged Out| 8249|\n",
      "| Cancelled|   52|\n",
      "|     Guest|   97|\n",
      "| Logged In|49994|\n",
      "+----------+-----+\n",
      "\n"
     ]
    }
   ],
   "source": [
    "df.filter(df.song.isNull()).groupBy('auth').count().show()"
   ]
  },
  {
   "cell_type": "code",
   "execution_count": 38,
   "metadata": {},
   "outputs": [
    {
     "name": "stdout",
     "output_type": "stream",
     "text": [
      "+-----+-----+\n",
      "|level|count|\n",
      "+-----+-----+\n",
      "| free|16347|\n",
      "| paid|42045|\n",
      "+-----+-----+\n",
      "\n"
     ]
    }
   ],
   "source": [
    "df.filter(df.song.isNull()).groupBy('level').count().show()"
   ]
  },
  {
   "cell_type": "code",
   "execution_count": 39,
   "metadata": {},
   "outputs": [
    {
     "name": "stdout",
     "output_type": "stream",
     "text": [
      "+------+-----+\n",
      "|userId|count|\n",
      "+------+-----+\n",
      "|      | 8346|\n",
      "|    39| 1630|\n",
      "|    92| 1285|\n",
      "|   140| 1216|\n",
      "|300011| 1113|\n",
      "|300021|  843|\n",
      "|200023|  814|\n",
      "|300017|  796|\n",
      "|    85|  754|\n",
      "|   124|  746|\n",
      "|    42|  684|\n",
      "|     6|  602|\n",
      "|    54|  596|\n",
      "|    29|  575|\n",
      "|   100|  532|\n",
      "|300015|  527|\n",
      "|   126|  525|\n",
      "|     9|  515|\n",
      "|   118|  492|\n",
      "|    98|  490|\n",
      "+------+-----+\n",
      "only showing top 20 rows\n",
      "\n"
     ]
    }
   ],
   "source": [
    "df.filter(df.song.isNull()).groupBy('userId').count().sort(col(\"count\").desc()).show()"
   ]
  },
  {
   "cell_type": "markdown",
   "metadata": {},
   "source": [
    "#### Some of the records where the artist name is missing has user information so these are actions taken when the user is logged in, but is not actually playing music just yet. You can see some people are adding songs to a playlist, liking or disliking songs, or just returning to the home page. It appears there is some intersectionality between the missingness as we've seen thoose 8,249 logged out and 97 guest records. Let's confirm."
   ]
  },
  {
   "cell_type": "code",
   "execution_count": 40,
   "metadata": {},
   "outputs": [
    {
     "name": "stdout",
     "output_type": "stream",
     "text": [
      "50046 0\n",
      "8346 228108\n",
      "58392 228108\n"
     ]
    }
   ],
   "source": [
    "# Find the number of records where the missingness does not overlap\n",
    "print(df.filter(df.song.isNull() & df.firstName.isNotNull()).count(), df.filter(df.song.isNotNull() & df.firstName.isNull()).count())\n",
    "print(df.filter(df.song.isNull() & df.firstName.isNull()).count(), df.filter(df.song.isNotNull() & df.firstName.isNotNull()).count())\n",
    "print(df.filter(df.song.isNull()).count(), df.filter(df.song.isNotNull()).count())"
   ]
  },
  {
   "cell_type": "markdown",
   "metadata": {},
   "source": [
    "#### The above cell confirms that the records where the user information is missing, the song name is missing as well. There is another set of records where the song information is missing, but there is user information. In the data, there are no records where the user information is missing while there is song information. Lastly, the rest of the records make up records where there is no missing data. It looks like the missingness can be resolved by removing the records where the user information is null."
   ]
  },
  {
   "cell_type": "markdown",
   "metadata": {},
   "source": [
    "### Drop Records Where userId Is Missing"
   ]
  },
  {
   "cell_type": "code",
   "execution_count": 41,
   "metadata": {},
   "outputs": [],
   "source": [
    "# drop rows with missing values in userid\n",
    "df = df.filter(df[\"userId\"] != \"\")"
   ]
  },
  {
   "cell_type": "code",
   "execution_count": 42,
   "metadata": {},
   "outputs": [
    {
     "data": {
      "text/plain": [
       "278154"
      ]
     },
     "execution_count": 42,
     "metadata": {},
     "output_type": "execute_result"
    }
   ],
   "source": [
    "df.count()"
   ]
  },
  {
   "cell_type": "markdown",
   "metadata": {},
   "source": [
    "### Derive extra variables from existing variables"
   ]
  },
  {
   "cell_type": "markdown",
   "metadata": {},
   "source": [
    "#### Market"
   ]
  },
  {
   "cell_type": "code",
   "execution_count": 43,
   "metadata": {},
   "outputs": [],
   "source": [
    "# String Split of the location column after the comma to extract the market\n",
    "df = df.withColumn(\"market\", split(col(\"location\"), \", \").getItem(1))"
   ]
  },
  {
   "cell_type": "code",
   "execution_count": 44,
   "metadata": {},
   "outputs": [
    {
     "name": "stdout",
     "output_type": "stream",
     "text": [
      "+-----------+-----+\n",
      "|     market|count|\n",
      "+-----------+-----+\n",
      "|         AK| 3563|\n",
      "|         AL| 2857|\n",
      "|         AR|  520|\n",
      "|         AZ| 4846|\n",
      "|         CA|46771|\n",
      "|         CO| 7493|\n",
      "|         CT| 6720|\n",
      "|DC-VA-MD-WV| 3090|\n",
      "|         FL|13190|\n",
      "|         GA| 4236|\n",
      "|      GA-AL| 2716|\n",
      "|         IA|  651|\n",
      "|         IL| 2102|\n",
      "|   IL-IN-WI| 5114|\n",
      "|      IL-MO| 1003|\n",
      "|         IN| 1262|\n",
      "|         KY| 3462|\n",
      "|      KY-IN| 6880|\n",
      "|         LA| 1171|\n",
      "|      MA-NH|13873|\n",
      "+-----------+-----+\n",
      "only showing top 20 rows\n",
      "\n"
     ]
    }
   ],
   "source": [
    "df.groupBy('market').count().sort(col(\"market\")).show()"
   ]
  },
  {
   "cell_type": "code",
   "execution_count": 45,
   "metadata": {},
   "outputs": [
    {
     "name": "stdout",
     "output_type": "stream",
     "text": [
      "+----------------------+\n",
      "|count(DISTINCT market)|\n",
      "+----------------------+\n",
      "|                    58|\n",
      "+----------------------+\n",
      "\n"
     ]
    }
   ],
   "source": [
    "# count how many unique markets there are\n",
    "df.select(countDistinct(\"market\")).show()"
   ]
  },
  {
   "cell_type": "markdown",
   "metadata": {},
   "source": [
    "##### There are 114 unique locations in the data. By creating the \"market\" variable, this was able to be narrowed down to 58."
   ]
  },
  {
   "cell_type": "markdown",
   "metadata": {},
   "source": [
    "#### Agent"
   ]
  },
  {
   "cell_type": "code",
   "execution_count": 46,
   "metadata": {},
   "outputs": [
    {
     "name": "stdout",
     "output_type": "stream",
     "text": [
      "+----------------+---------+---------+------+-------------+--------+---------+-----+--------------------+------+--------+-------------+---------+--------------------+------+-------------+--------------------+------+------+-------+\n",
      "|          artist|     auth|firstName|gender|itemInSession|lastName|   length|level|            location|method|    page| registration|sessionId|                song|status|           ts|           userAgent|userId|market|  agent|\n",
      "+----------------+---------+---------+------+-------------+--------+---------+-----+--------------------+------+--------+-------------+---------+--------------------+------+-------------+--------------------+------+------+-------+\n",
      "|  Martha Tilston|Logged In|    Colin|     M|           50| Freeman|277.89016| paid|     Bakersfield, CA|   PUT|NextSong|1538173362000|       29|           Rockpools|   200|1538352117000|Mozilla/5.0 (Wind...|    30|    CA|Windows|\n",
      "|Five Iron Frenzy|Logged In|    Micah|     M|           79|    Long|236.09424| free|Boston-Cambridge-...|   PUT|NextSong|1538331630000|        8|              Canada|   200|1538352180000|\"Mozilla/5.0 (Win...|     9| MA-NH|Windows|\n",
      "|    Adam Lambert|Logged In|    Colin|     M|           51| Freeman| 282.8273| paid|     Bakersfield, CA|   PUT|NextSong|1538173362000|       29|   Time For Miracles|   200|1538352394000|Mozilla/5.0 (Wind...|    30|    CA|Windows|\n",
      "|          Enigma|Logged In|    Micah|     M|           80|    Long|262.71302| free|Boston-Cambridge-...|   PUT|NextSong|1538331630000|        8|Knocking On Forbi...|   200|1538352416000|\"Mozilla/5.0 (Win...|     9| MA-NH|Windows|\n",
      "|       Daft Punk|Logged In|    Colin|     M|           52| Freeman|223.60771| paid|     Bakersfield, CA|   PUT|NextSong|1538173362000|       29|Harder Better Fas...|   200|1538352676000|Mozilla/5.0 (Wind...|    30|    CA|Windows|\n",
      "+----------------+---------+---------+------+-------------+--------+---------+-----+--------------------+------+--------+-------------+---------+--------------------+------+-------------+--------------------+------+------+-------+\n",
      "only showing top 5 rows\n",
      "\n"
     ]
    }
   ],
   "source": [
    "# We extract browser data from the userAgent column as the first word before the semicolon within the first set of parentheses\n",
    "agent = udf(lambda x: str(re.findall(r'\\((.*?)\\)', x)[0].split(\";\")[0].split()[0]) if x is not None else None, StringType())\n",
    "\n",
    "# Create new browser column\n",
    "df = df.withColumn(\"agent\", agent(df.userAgent))\n",
    "df.show(5)"
   ]
  },
  {
   "cell_type": "code",
   "execution_count": 47,
   "metadata": {},
   "outputs": [
    {
     "name": "stdout",
     "output_type": "stream",
     "text": [
      "+----------+------+\n",
      "|     agent| count|\n",
      "+----------+------+\n",
      "|      iPad| 11381|\n",
      "|       X11|  8961|\n",
      "|    iPhone| 11192|\n",
      "| Macintosh|102749|\n",
      "|compatible| 10684|\n",
      "|   Windows|133187|\n",
      "+----------+------+\n",
      "\n"
     ]
    }
   ],
   "source": [
    "df.groupBy(\"agent\").count().show()"
   ]
  },
  {
   "cell_type": "markdown",
   "metadata": {},
   "source": [
    "##### There are 57 unique userAgent values in the data. By creating the \"agent\" variable, this was able to be narrowed down to 6."
   ]
  },
  {
   "cell_type": "markdown",
   "metadata": {},
   "source": [
    "#### Timestamp"
   ]
  },
  {
   "cell_type": "code",
   "execution_count": 48,
   "metadata": {},
   "outputs": [],
   "source": [
    "#Convert Unix timestamp to timestamp\n",
    "#df = df.withColumn('longdate', from_unixtime(col('ts').cast(LongType())/1000).cast(TimestampType())) # convert timestamp to epoch time\n",
    "df = df.withColumn('shortdate', from_unixtime(col('ts')/1000).cast(DateType()))"
   ]
  },
  {
   "cell_type": "code",
   "execution_count": 49,
   "metadata": {},
   "outputs": [],
   "source": [
    "# Convert the ts column to extract actual time units\n",
    "get_hour = udf(lambda x: datetime.datetime.fromtimestamp(x/1000).hour,IntegerType())\n",
    "get_day = udf(lambda x: datetime.datetime.fromtimestamp(x/1000).day,IntegerType())\n",
    "get_month = udf(lambda x: datetime.datetime.fromtimestamp(x/1000).month,IntegerType())\n",
    "get_year = udf(lambda x: datetime.datetime.fromtimestamp(x/1000).year,IntegerType())"
   ]
  },
  {
   "cell_type": "code",
   "execution_count": 50,
   "metadata": {},
   "outputs": [],
   "source": [
    "# Creating the columns\n",
    "df = df \\\n",
    "    .withColumn('hour',get_hour(col('ts'))) \\\n",
    "    .withColumn('day',get_day(col('ts'))) \\\n",
    "    .withColumn('month',get_month(col('ts'))) \\\n",
    "    .withColumn('year',get_year(col('ts')))"
   ]
  },
  {
   "cell_type": "code",
   "execution_count": 51,
   "metadata": {},
   "outputs": [
    {
     "name": "stdout",
     "output_type": "stream",
     "text": [
      "+-------+-----------------+\n",
      "|summary|             hour|\n",
      "+-------+-----------------+\n",
      "|  count|           278154|\n",
      "|   mean|12.20457372534639|\n",
      "| stddev|6.865469990132577|\n",
      "|    min|                0|\n",
      "|    max|               23|\n",
      "+-------+-----------------+\n",
      "\n"
     ]
    }
   ],
   "source": [
    "df.describe(\"hour\").show()"
   ]
  },
  {
   "cell_type": "code",
   "execution_count": 52,
   "metadata": {},
   "outputs": [
    {
     "name": "stdout",
     "output_type": "stream",
     "text": [
      "+-------+------+\n",
      "|summary|  year|\n",
      "+-------+------+\n",
      "|  count|278154|\n",
      "|   mean|2018.0|\n",
      "| stddev|   0.0|\n",
      "|    min|  2018|\n",
      "|    max|  2018|\n",
      "+-------+------+\n",
      "\n"
     ]
    }
   ],
   "source": [
    "df.describe(\"year\").show()"
   ]
  },
  {
   "cell_type": "code",
   "execution_count": 53,
   "metadata": {},
   "outputs": [
    {
     "name": "stdout",
     "output_type": "stream",
     "text": [
      "+-------+------------------+\n",
      "|summary|             month|\n",
      "+-------+------------------+\n",
      "|  count|            278154|\n",
      "|   mean|10.479022412045126|\n",
      "| stddev|0.4995894305896185|\n",
      "|    min|                10|\n",
      "|    max|                12|\n",
      "+-------+------------------+\n",
      "\n"
     ]
    }
   ],
   "source": [
    "df.describe(\"month\").show()"
   ]
  },
  {
   "cell_type": "code",
   "execution_count": 54,
   "metadata": {},
   "outputs": [
    {
     "name": "stdout",
     "output_type": "stream",
     "text": [
      "+-------+------------------+\n",
      "|summary|               day|\n",
      "+-------+------------------+\n",
      "|  count|            278154|\n",
      "|   mean|15.793574782314833|\n",
      "| stddev| 8.926525825029135|\n",
      "|    min|                 1|\n",
      "|    max|                31|\n",
      "+-------+------------------+\n",
      "\n"
     ]
    }
   ],
   "source": [
    "df.describe(\"day\").show()"
   ]
  },
  {
   "cell_type": "markdown",
   "metadata": {},
   "source": [
    "##### It appears all of the records are from the 4th quarter of 2018."
   ]
  },
  {
   "cell_type": "markdown",
   "metadata": {},
   "source": [
    "### Drop unnecessary variables "
   ]
  },
  {
   "cell_type": "code",
   "execution_count": 55,
   "metadata": {},
   "outputs": [],
   "source": [
    "# Drop the first and last name of the user and userAgent\n",
    "df = df.drop(\"firstName\", \"lastName\", \"userAgent\")  "
   ]
  },
  {
   "cell_type": "code",
   "execution_count": 56,
   "metadata": {},
   "outputs": [
    {
     "name": "stdout",
     "output_type": "stream",
     "text": [
      "root\n",
      " |-- artist: string (nullable = true)\n",
      " |-- auth: string (nullable = true)\n",
      " |-- gender: string (nullable = true)\n",
      " |-- itemInSession: long (nullable = true)\n",
      " |-- length: double (nullable = true)\n",
      " |-- level: string (nullable = true)\n",
      " |-- location: string (nullable = true)\n",
      " |-- method: string (nullable = true)\n",
      " |-- page: string (nullable = true)\n",
      " |-- registration: long (nullable = true)\n",
      " |-- sessionId: long (nullable = true)\n",
      " |-- song: string (nullable = true)\n",
      " |-- status: long (nullable = true)\n",
      " |-- ts: long (nullable = true)\n",
      " |-- userId: string (nullable = true)\n",
      " |-- market: string (nullable = true)\n",
      " |-- agent: string (nullable = true)\n",
      " |-- shortdate: date (nullable = true)\n",
      " |-- hour: integer (nullable = true)\n",
      " |-- day: integer (nullable = true)\n",
      " |-- month: integer (nullable = true)\n",
      " |-- year: integer (nullable = true)\n",
      "\n"
     ]
    }
   ],
   "source": [
    "df.printSchema()"
   ]
  },
  {
   "cell_type": "code",
   "execution_count": 57,
   "metadata": {},
   "outputs": [
    {
     "name": "stdout",
     "output_type": "stream",
     "text": [
      "+--------------------+---------+------+-------------+---------+-----+--------------------+------+---------------+-------------+---------+--------------------+------+-------------+------+------+---------+----------+----+---+-----+----+\n",
      "|              artist|     auth|gender|itemInSession|   length|level|            location|method|           page| registration|sessionId|                song|status|           ts|userId|market|    agent| shortdate|hour|day|month|year|\n",
      "+--------------------+---------+------+-------------+---------+-----+--------------------+------+---------------+-------------+---------+--------------------+------+-------------+------+------+---------+----------+----+---+-----+----+\n",
      "|      Martha Tilston|Logged In|     M|           50|277.89016| paid|     Bakersfield, CA|   PUT|       NextSong|1538173362000|       29|           Rockpools|   200|1538352117000|    30|    CA|  Windows|2018-10-01|   0|  1|   10|2018|\n",
      "|    Five Iron Frenzy|Logged In|     M|           79|236.09424| free|Boston-Cambridge-...|   PUT|       NextSong|1538331630000|        8|              Canada|   200|1538352180000|     9| MA-NH|  Windows|2018-10-01|   0|  1|   10|2018|\n",
      "|        Adam Lambert|Logged In|     M|           51| 282.8273| paid|     Bakersfield, CA|   PUT|       NextSong|1538173362000|       29|   Time For Miracles|   200|1538352394000|    30|    CA|  Windows|2018-10-01|   0|  1|   10|2018|\n",
      "|              Enigma|Logged In|     M|           80|262.71302| free|Boston-Cambridge-...|   PUT|       NextSong|1538331630000|        8|Knocking On Forbi...|   200|1538352416000|     9| MA-NH|  Windows|2018-10-01|   0|  1|   10|2018|\n",
      "|           Daft Punk|Logged In|     M|           52|223.60771| paid|     Bakersfield, CA|   PUT|       NextSong|1538173362000|       29|Harder Better Fas...|   200|1538352676000|    30|    CA|  Windows|2018-10-01|   0|  1|   10|2018|\n",
      "|The All-American ...|Logged In|     M|           81|208.29995| free|Boston-Cambridge-...|   PUT|       NextSong|1538331630000|        8|      Don't Leave Me|   200|1538352678000|     9| MA-NH|  Windows|2018-10-01|   0|  1|   10|2018|\n",
      "|The Velvet Underg...|Logged In|     M|           82|260.46649| free|Boston-Cambridge-...|   PUT|       NextSong|1538331630000|        8|         Run Run Run|   200|1538352886000|     9| MA-NH|  Windows|2018-10-01|   0|  1|   10|2018|\n",
      "|        Starflyer 59|Logged In|     M|           53|185.44281| paid|     Bakersfield, CA|   PUT|       NextSong|1538173362000|       29|Passengers (Old A...|   200|1538352899000|    30|    CA|  Windows|2018-10-01|   0|  1|   10|2018|\n",
      "|                null|Logged In|     M|           54|     null| paid|     Bakersfield, CA|   PUT|Add to Playlist|1538173362000|       29|                null|   200|1538352905000|    30|    CA|  Windows|2018-10-01|   0|  1|   10|2018|\n",
      "|            Frumpies|Logged In|     M|           55|134.47791| paid|     Bakersfield, CA|   PUT|       NextSong|1538173362000|       29|          Fuck Kitty|   200|1538353084000|    30|    CA|  Windows|2018-10-01|   0|  1|   10|2018|\n",
      "|        Britt Nicole|Logged In|     M|           83| 229.8771| free|Boston-Cambridge-...|   PUT|       NextSong|1538331630000|        8|   Walk On The Water|   200|1538353146000|     9| MA-NH|  Windows|2018-10-01|   0|  1|   10|2018|\n",
      "|                null|Logged In|     M|           84|     null| free|Boston-Cambridge-...|   GET|    Roll Advert|1538331630000|        8|                null|   200|1538353150000|     9| MA-NH|  Windows|2018-10-01|   0|  1|   10|2018|\n",
      "|Edward Sharpe & T...|Logged In|     M|           56|223.58159| paid|     Bakersfield, CA|   PUT|       NextSong|1538173362000|       29|                Jade|   200|1538353218000|    30|    CA|  Windows|2018-10-01|   0|  1|   10|2018|\n",
      "|               Tesla|Logged In|     M|           85|201.06404| free|Boston-Cambridge-...|   PUT|       NextSong|1538331630000|        8|      Gettin' Better|   200|1538353375000|     9| MA-NH|  Windows|2018-10-01|   0|  1|   10|2018|\n",
      "|                null|Logged In|     M|           86|     null| free|Boston-Cambridge-...|   PUT|      Thumbs Up|1538331630000|        8|                null|   307|1538353376000|     9| MA-NH|  Windows|2018-10-01|   0|  1|   10|2018|\n",
      "|         Stan Mosley|Logged In|     M|           57|246.69995| paid|     Bakersfield, CA|   PUT|       NextSong|1538173362000|       29|   So-Called Friends|   200|1538353441000|    30|    CA|  Windows|2018-10-01|   0|  1|   10|2018|\n",
      "|Florence + The Ma...|Logged In|     M|           87|168.64608| free|Boston-Cambridge-...|   PUT|       NextSong|1538331630000|        8| You've Got The Love|   200|1538353576000|     9| MA-NH|  Windows|2018-10-01|   0|  1|   10|2018|\n",
      "|   Tokyo Police Club|Logged In|     F|            0| 166.1122| free|     Tallahassee, FL|   PUT|       NextSong|1537365219000|      217|Citizens Of Tomorrow|   200|1538353668000|    74|    FL|Macintosh|2018-10-01|   0|  1|   10|2018|\n",
      "|             Orishas|Logged In|     M|           58|222.22322| paid|     Bakersfield, CA|   PUT|       NextSong|1538173362000|       29|           Represent|   200|1538353687000|    30|    CA|  Windows|2018-10-01|   0|  1|   10|2018|\n",
      "|             Ratatat|Logged In|     M|           88|229.77261| free|Boston-Cambridge-...|   PUT|       NextSong|1538331630000|        8|              Swisha|   200|1538353744000|     9| MA-NH|  Windows|2018-10-01|   0|  1|   10|2018|\n",
      "+--------------------+---------+------+-------------+---------+-----+--------------------+------+---------------+-------------+---------+--------------------+------+-------------+------+------+---------+----------+----+---+-----+----+\n",
      "only showing top 20 rows\n",
      "\n"
     ]
    }
   ],
   "source": [
    "df.show()"
   ]
  },
  {
   "cell_type": "markdown",
   "metadata": {},
   "source": [
    "# Exploratory Data Analysis\n",
    "### Define Churn\n",
    "\n",
    "A column named `churned_ind` will be created and used as the label for the model based on where the variable 'page' equals 'Cancellation Confirmation'. A column labeled `downgraded_ind` will also be created for the events where 'page' equals \"Submit Downgrade\".\n",
    "\n",
    "### Explore Data\n",
    "After creating these variables, exploratory data analysis will be done to observe the behavior for users who stayed versus users who churned. Aggregates between these two groups of users will be explored by observing how much of a specific action they experienced per a certain time unit, a number of songs played, or some other characteristics."
   ]
  },
  {
   "cell_type": "markdown",
   "metadata": {},
   "source": [
    "### Users Who Churned"
   ]
  },
  {
   "cell_type": "code",
   "execution_count": 58,
   "metadata": {},
   "outputs": [
    {
     "data": {
      "text/plain": [
       "225"
      ]
     },
     "execution_count": 58,
     "metadata": {},
     "output_type": "execute_result"
    }
   ],
   "source": [
    "# Get the number of distinct userIds \n",
    "df.select(\"userId\").distinct().count()"
   ]
  },
  {
   "cell_type": "code",
   "execution_count": 59,
   "metadata": {},
   "outputs": [
    {
     "name": "stdout",
     "output_type": "stream",
     "text": [
      "52\n",
      "+------+\n",
      "|userId|\n",
      "+------+\n",
      "|    18|\n",
      "|    32|\n",
      "|   125|\n",
      "|   105|\n",
      "|    17|\n",
      "|   143|\n",
      "|   101|\n",
      "|   129|\n",
      "|   121|\n",
      "|    51|\n",
      "|    87|\n",
      "|   122|\n",
      "|    12|\n",
      "|    58|\n",
      "|    73|\n",
      "|     3|\n",
      "|   106|\n",
      "|   103|\n",
      "|    28|\n",
      "|    54|\n",
      "+------+\n",
      "only showing top 20 rows\n",
      "\n"
     ]
    }
   ],
   "source": [
    "# Identify the users who churned\n",
    "print(df.select([\"userId\"]).where(df.page == \"Cancellation Confirmation\").distinct().count())\n",
    "df.select([\"userId\"]).where(df.page == \"Cancellation Confirmation\").show()"
   ]
  },
  {
   "cell_type": "code",
   "execution_count": 60,
   "metadata": {},
   "outputs": [
    {
     "name": "stdout",
     "output_type": "stream",
     "text": [
      "49\n",
      "+------+-----+\n",
      "|userId|count|\n",
      "+------+-----+\n",
      "|   140|    3|\n",
      "|    39|    3|\n",
      "|    85|    2|\n",
      "|    35|    2|\n",
      "|   131|    2|\n",
      "|200023|    2|\n",
      "|    20|    2|\n",
      "|100004|    2|\n",
      "|200003|    2|\n",
      "|    13|    2|\n",
      "|    61|    2|\n",
      "|100018|    2|\n",
      "|    54|    1|\n",
      "|    11|    1|\n",
      "|    30|    1|\n",
      "|    59|    1|\n",
      "|    96|    1|\n",
      "|100016|    1|\n",
      "|100008|    1|\n",
      "|100025|    1|\n",
      "|300002|    1|\n",
      "|    49|    1|\n",
      "|   100|    1|\n",
      "|    95|    1|\n",
      "|    38|    1|\n",
      "|    25|    1|\n",
      "|300004|    1|\n",
      "|300015|    1|\n",
      "|    77|    1|\n",
      "|100009|    1|\n",
      "|300011|    1|\n",
      "|300021|    1|\n",
      "|100015|    1|\n",
      "|300023|    1|\n",
      "|    74|    1|\n",
      "|   103|    1|\n",
      "|200009|    1|\n",
      "|    92|    1|\n",
      "|    81|    1|\n",
      "|100012|    1|\n",
      "|200025|    1|\n",
      "|200020|    1|\n",
      "|   141|    1|\n",
      "|     9|    1|\n",
      "|    24|    1|\n",
      "|200011|    1|\n",
      "|    12|    1|\n",
      "|   109|    1|\n",
      "|200019|    1|\n",
      "+------+-----+\n",
      "\n"
     ]
    }
   ],
   "source": [
    "# Identify the users who downgraded their services\n",
    "print(df.select([\"userId\"]).where(df.page == \"Submit Downgrade\").distinct().count())\n",
    "df.select([\"userId\"]).where(df.page == \"Submit Downgrade\").groupby(df.userId).count().sort(col(\"count\").desc()).show(49)"
   ]
  },
  {
   "cell_type": "markdown",
   "metadata": {},
   "source": [
    "#### We have 225 unique users, 49 users who downgraded their services, and 52 users who cancelled their services. There are some users who downgraded their services and then eventually cancelled their services."
   ]
  },
  {
   "cell_type": "code",
   "execution_count": 61,
   "metadata": {},
   "outputs": [],
   "source": [
    "# create user-defined function to label churn\n",
    "flag_churn = udf(lambda x: 1 if x == \"Cancellation Confirmation\" else 0, IntegerType())"
   ]
  },
  {
   "cell_type": "code",
   "execution_count": 62,
   "metadata": {},
   "outputs": [],
   "source": [
    "# create user-defined function to label a downgrade\n",
    "flag_downgrade = udf(lambda x: 1 if x == \"Submit Downgrade\" else 0, IntegerType())"
   ]
  },
  {
   "cell_type": "code",
   "execution_count": 63,
   "metadata": {},
   "outputs": [],
   "source": [
    "df = df.withColumn(\"downgraded\", flag_downgrade(\"page\"))"
   ]
  },
  {
   "cell_type": "code",
   "execution_count": 64,
   "metadata": {},
   "outputs": [],
   "source": [
    "df = df.withColumn(\"churned\", flag_churn(\"page\"))"
   ]
  },
  {
   "cell_type": "code",
   "execution_count": 65,
   "metadata": {},
   "outputs": [],
   "source": [
    "# Assign the flags at an user level\n",
    "df = df.withColumn(\"churn_ind\", max('churned').over(Window.partitionBy('userId')))\n",
    "df = df.withColumn(\"downgrade_ind\", max('downgraded').over(Window.partitionBy('userId')))"
   ]
  },
  {
   "cell_type": "code",
   "execution_count": 66,
   "metadata": {},
   "outputs": [
    {
     "name": "stdout",
     "output_type": "stream",
     "text": [
      "root\n",
      " |-- artist: string (nullable = true)\n",
      " |-- auth: string (nullable = true)\n",
      " |-- gender: string (nullable = true)\n",
      " |-- itemInSession: long (nullable = true)\n",
      " |-- length: double (nullable = true)\n",
      " |-- level: string (nullable = true)\n",
      " |-- location: string (nullable = true)\n",
      " |-- method: string (nullable = true)\n",
      " |-- page: string (nullable = true)\n",
      " |-- registration: long (nullable = true)\n",
      " |-- sessionId: long (nullable = true)\n",
      " |-- song: string (nullable = true)\n",
      " |-- status: long (nullable = true)\n",
      " |-- ts: long (nullable = true)\n",
      " |-- userId: string (nullable = true)\n",
      " |-- market: string (nullable = true)\n",
      " |-- agent: string (nullable = true)\n",
      " |-- shortdate: date (nullable = true)\n",
      " |-- hour: integer (nullable = true)\n",
      " |-- day: integer (nullable = true)\n",
      " |-- month: integer (nullable = true)\n",
      " |-- year: integer (nullable = true)\n",
      " |-- downgraded: integer (nullable = true)\n",
      " |-- churned: integer (nullable = true)\n",
      " |-- churn_ind: integer (nullable = true)\n",
      " |-- downgrade_ind: integer (nullable = true)\n",
      "\n"
     ]
    }
   ],
   "source": [
    "df.printSchema()"
   ]
  },
  {
   "cell_type": "code",
   "execution_count": 67,
   "metadata": {},
   "outputs": [
    {
     "name": "stdout",
     "output_type": "stream",
     "text": [
      "+----------+------+\n",
      "|downgraded| count|\n",
      "+----------+------+\n",
      "|         0|278091|\n",
      "|         1|    63|\n",
      "+----------+------+\n",
      "\n"
     ]
    }
   ],
   "source": [
    "df.groupBy('downgraded').count().sort(col(\"count\").desc()).show()"
   ]
  },
  {
   "cell_type": "code",
   "execution_count": 68,
   "metadata": {},
   "outputs": [
    {
     "name": "stdout",
     "output_type": "stream",
     "text": [
      "+-------+------+\n",
      "|churned| count|\n",
      "+-------+------+\n",
      "|      0|278102|\n",
      "|      1|    52|\n",
      "+-------+------+\n",
      "\n"
     ]
    }
   ],
   "source": [
    "df.groupBy('churned').count().sort(col(\"count\").desc()).show()"
   ]
  },
  {
   "cell_type": "code",
   "execution_count": 69,
   "metadata": {},
   "outputs": [],
   "source": [
    "# Wrtie cleaned data file to folder\n",
    "#df.write.csv(\"Sparkify_Data_Cleaned.csv\",header = 'true')"
   ]
  },
  {
   "cell_type": "code",
   "execution_count": 70,
   "metadata": {},
   "outputs": [
    {
     "data": {
      "text/plain": [
       "Row(artist=None, auth='Logged In', gender='M', itemInSession='0', length=None, level='free', location='New York-Newark-Jersey City, NY-NJ-PA', method='GET', page='Home', registration='1538227408000', sessionId='125', song=None, status='200', ts='1538387004000', userId='126', market='NY-NJ-PA', agent='Windows', shortdate='2018-10-01', hour='9', day='1', month='10', year='2018', downgraded='0', churned='0', churn_ind='0', downgrade_ind='0')"
      ]
     },
     "execution_count": 70,
     "metadata": {},
     "output_type": "execute_result"
    }
   ],
   "source": [
    "# Read in cleaned data set\n",
    "df_clean = spark.read.csv(\"Sparkify_Data_Cleaned.csv\",header = 'true')\n",
    "df_clean.head()"
   ]
  },
  {
   "cell_type": "code",
   "execution_count": 71,
   "metadata": {},
   "outputs": [],
   "source": [
    "df_clean = df_clean.withColumn(\"itemInSession\", df_clean[\"itemInSession\"].cast(IntegerType()))"
   ]
  },
  {
   "cell_type": "code",
   "execution_count": 72,
   "metadata": {},
   "outputs": [
    {
     "data": {
      "text/plain": [
       "225"
      ]
     },
     "execution_count": 72,
     "metadata": {},
     "output_type": "execute_result"
    }
   ],
   "source": [
    "# Create a data set with one record per userId to indicate if they churned or not\n",
    "churned_df = df.sort(col(\"userId\"),col(\"churned\").desc()).dropDuplicates([\"userId\"])\n",
    "churned_df.count()"
   ]
  },
  {
   "cell_type": "code",
   "execution_count": 73,
   "metadata": {},
   "outputs": [],
   "source": [
    "churned_df = churned_df.groupBy([\"churned\"]).count()"
   ]
  },
  {
   "cell_type": "code",
   "execution_count": 74,
   "metadata": {},
   "outputs": [
    {
     "data": {
      "text/plain": [
       "225"
      ]
     },
     "execution_count": 74,
     "metadata": {},
     "output_type": "execute_result"
    }
   ],
   "source": [
    "# Create a data set with one record per userId to indicate if they downgraded or not\n",
    "downgraded_df = df.sort(col(\"userId\"),col(\"downgraded\").desc()).dropDuplicates([\"userId\"])\n",
    "downgraded_df.count()"
   ]
  },
  {
   "cell_type": "code",
   "execution_count": 75,
   "metadata": {},
   "outputs": [],
   "source": [
    "downgraded_df = downgraded_df.groupBy([\"downgraded\"]).count()"
   ]
  },
  {
   "cell_type": "markdown",
   "metadata": {},
   "source": [
    "### EDA for Churn vs Not Churn and Downgrade vs Not Downgrade"
   ]
  },
  {
   "cell_type": "code",
   "execution_count": 76,
   "metadata": {},
   "outputs": [
    {
     "name": "stdout",
     "output_type": "stream",
     "text": [
      "+---------+-------------+----------+\n",
      "|churn_ind|downgrade_ind|user_count|\n",
      "+---------+-------------+----------+\n",
      "|        0|            0|       133|\n",
      "|        0|            1|        40|\n",
      "|        1|            0|        43|\n",
      "|        1|            1|         9|\n",
      "+---------+-------------+----------+\n",
      "\n"
     ]
    }
   ],
   "source": [
    "# Count the number of users who churned/downgraded vs not churned/downgraded for the status distribution\n",
    "# churn_ind = 1 means customer churned, churn_ind = 0 means customer did not churn\n",
    "# downgrade_ind = 1 means customer downgraded, downgrade_ind = 0 means customer did not downgrade\n",
    "df_clean.groupby(['churn_ind', 'downgrade_ind']).agg(countDistinct('userId').alias('user_count')).sort(\"churn_ind\",\"downgrade_ind\").show()"
   ]
  },
  {
   "cell_type": "code",
   "execution_count": 77,
   "metadata": {},
   "outputs": [],
   "source": [
    "# transform to panda dataframe for visualization\n",
    "churned_df = churned_df.toPandas()\n",
    "downgraded_df = downgraded_df.toPandas()\n",
    "df_pd = df_clean.toPandas()"
   ]
  },
  {
   "cell_type": "code",
   "execution_count": 78,
   "metadata": {},
   "outputs": [
    {
     "data": {
      "image/png": "[encoded data removed]",
      "text/plain": [
       "<matplotlib.figure.Figure at 0x7fe36f2bcda0>"
      ]
     },
     "metadata": {
      "needs_background": "light"
     },
     "output_type": "display_data"
    }
   ],
   "source": [
    "# Plot data as bar charts (1 - churned/downgraded)\n",
    "fig = plt.figure(figsize=[10,10])\n",
    "\n",
    "plt.subplot(1, 2, 1)\n",
    "ax = sns.barplot(data = churned_df, x = 'churned', y='count')\n",
    "plt.title(\"Numbers of Users That Churned\");\n",
    "\n",
    "plt.subplot(1, 2, 2)\n",
    "ax = sns.barplot(data = downgraded_df, x = 'downgraded', y='count')\n",
    "plt.title(\"Numbers of Users That Downgraded\");"
   ]
  },
  {
   "cell_type": "markdown",
   "metadata": {},
   "source": [
    "#### Let's observe the churn/downgrade records by other categories. We'll plot bar plots showing the distribution between users who churned and users who did not\n",
    "(namely: auth, gender, level, agent, market, status)"
   ]
  },
  {
   "cell_type": "code",
   "execution_count": 79,
   "metadata": {},
   "outputs": [],
   "source": [
    "# transform eacg subset of data to a panda dataframe for visualization\n",
    "auth_churn = df_clean.drop_duplicates(['userId', 'auth']).groupby(['churn_ind', 'auth']).count().sort(\"churn_ind\").toPandas()\n",
    "gender_churn = df_clean.drop_duplicates(['userId', 'gender']).groupby(['churn_ind', 'gender']).count().sort(\"churn_ind\").toPandas()\n",
    "level_churn = df_clean.drop_duplicates(['userId', 'level']).groupby(['churn_ind', 'level']).count().sort(\"churn_ind\").toPandas()\n",
    "agent_churn = df_clean.drop_duplicates(['userId', 'agent']).groupby(['churn_ind', 'agent']).count().sort(\"churn_ind\").toPandas()\n",
    "market_churn = df_clean.drop_duplicates(['userId', 'market']).groupby(['churn_ind', 'market']).count().sort(\"churn_ind\").toPandas()\n",
    "status_churn = df_clean.drop_duplicates(['userId', 'status']).groupby(['churn_ind', 'status']).count().sort(\"churn_ind\").toPandas()\n",
    "\n",
    "auth_downgrade = df_clean.drop_duplicates(['userId', 'auth']).groupby(['downgrade_ind', 'auth']).count().sort(\"downgrade_ind\").toPandas()\n",
    "gender_downgrade = df_clean.drop_duplicates(['userId', 'gender']).groupby(['downgrade_ind', 'gender']).count().sort(\"downgrade_ind\").toPandas()\n",
    "level_downgrade = df_clean.drop_duplicates(['userId', 'level']).groupby(['downgrade_ind', 'level']).count().sort(\"downgrade_ind\").toPandas()\n",
    "agent_downgrade = df_clean.drop_duplicates(['userId', 'agent']).groupby(['downgrade_ind', 'agent']).count().sort(\"downgrade_ind\").toPandas()\n",
    "market_downgrade = df_clean.drop_duplicates(['userId', 'market']).groupby(['downgrade_ind', 'market']).count().sort(\"downgrade_ind\").toPandas()\n",
    "status_downgrade = df_clean.drop_duplicates(['userId', 'status']).groupby(['downgrade_ind', 'status']).count().sort(\"downgrade_ind\").toPandas()"
   ]
  },
  {
   "cell_type": "code",
   "execution_count": 84,
   "metadata": {},
   "outputs": [
    {
     "data": {
      "text/html": [
       "<div>\n",
       "<style scoped>\n",
       "    .dataframe tbody tr th:only-of-type {\n",
       "        vertical-align: middle;\n",
       "    }\n",
       "\n",
       "    .dataframe tbody tr th {\n",
       "        vertical-align: top;\n",
       "    }\n",
       "\n",
       "    .dataframe thead th {\n",
       "        text-align: right;\n",
       "    }\n",
       "</style>\n",
       "<table border=\"1\" class=\"dataframe\">\n",
       "  <thead>\n",
       "    <tr style=\"text-align: right;\">\n",
       "      <th></th>\n",
       "      <th>churn_ind</th>\n",
       "      <th>level</th>\n",
       "      <th>count</th>\n",
       "    </tr>\n",
       "  </thead>\n",
       "  <tbody>\n",
       "    <tr>\n",
       "      <th>0</th>\n",
       "      <td>0</td>\n",
       "      <td>paid</td>\n",
       "      <td>129</td>\n",
       "    </tr>\n",
       "    <tr>\n",
       "      <th>1</th>\n",
       "      <td>0</td>\n",
       "      <td>free</td>\n",
       "      <td>149</td>\n",
       "    </tr>\n",
       "    <tr>\n",
       "      <th>2</th>\n",
       "      <td>1</td>\n",
       "      <td>paid</td>\n",
       "      <td>36</td>\n",
       "    </tr>\n",
       "    <tr>\n",
       "      <th>3</th>\n",
       "      <td>1</td>\n",
       "      <td>free</td>\n",
       "      <td>46</td>\n",
       "    </tr>\n",
       "  </tbody>\n",
       "</table>\n",
       "</div>"
      ],
      "text/plain": [
       "  churn_ind level  count\n",
       "0         0  paid    129\n",
       "1         0  free    149\n",
       "2         1  paid     36\n",
       "3         1  free     46"
      ]
     },
     "execution_count": 84,
     "metadata": {},
     "output_type": "execute_result"
    }
   ],
   "source": [
    "level_churn"
   ]
  },
  {
   "cell_type": "code",
   "execution_count": 85,
   "metadata": {},
   "outputs": [
    {
     "data": {
      "image/png": "[encoded data removed]",
      "text/plain": [
       "<matplotlib.figure.Figure at 0x7fe3590f5e80>"
      ]
     },
     "metadata": {
      "needs_background": "light"
     },
     "output_type": "display_data"
    },
    {
     "data": {
      "image/png": "[encoded data removed]",
      "text/plain": [
       "<matplotlib.figure.Figure at 0x7fe357ca3828>"
      ]
     },
     "metadata": {
      "needs_background": "light"
     },
     "output_type": "display_data"
    }
   ],
   "source": [
    "fig = plt.figure(figsize=[20,6])\n",
    "plt.subplot(1, 2, 1)\n",
    "plt.title('Distribution of Users Who Churned vs Stayed by Auth')\n",
    "ax = sns.barplot(x = 'churn_ind', y = 'count',data = auth_churn, hue = 'auth')\n",
    "ax.set_xlabel(\"Churned / Not Churned\", fontsize = 15)\n",
    "ax.set_ylabel(\"Number of Customers\", fontsize = 15)\n",
    "plt.show()\n",
    "\n",
    "fig = plt.figure(figsize=[20,6])\n",
    "plt.subplot(1, 2, 2)\n",
    "plt.title('Distribution of Users Who Downgraded vs Stayed by Auth')\n",
    "ax = sns.barplot(x = 'downgrade_ind', y = 'count',data = auth_downgrade, hue = 'auth')\n",
    "ax.set_xlabel(\"Downgraded / Not Downgraded\", fontsize = 15)\n",
    "ax.set_ylabel(\"Number of Customers\", fontsize = 15)\n",
    "plt.show()"
   ]
  },
  {
   "cell_type": "code",
   "execution_count": 86,
   "metadata": {},
   "outputs": [
    {
     "name": "stdout",
     "output_type": "stream",
     "text": [
      "+---------+---------+----------+\n",
      "|churn_ind|     auth|user_count|\n",
      "+---------+---------+----------+\n",
      "|        0|Logged In|       173|\n",
      "|        1|Cancelled|        52|\n",
      "|        1|Logged In|        52|\n",
      "+---------+---------+----------+\n",
      "\n",
      "+-------------+---------+----------+\n",
      "|downgrade_ind|     auth|user_count|\n",
      "+-------------+---------+----------+\n",
      "|            0|Cancelled|        43|\n",
      "|            0|Logged In|       176|\n",
      "|            1|Cancelled|         9|\n",
      "|            1|Logged In|        49|\n",
      "+-------------+---------+----------+\n",
      "\n"
     ]
    }
   ],
   "source": [
    "# Count the number of users who churned/downgraded vs not churned/downgraded for the service in authencation distribution\n",
    "# churn_ind = 1 means customer churned, churn_ind = 0 means customer did not churn\n",
    "# downgrade_ind = 1 means customer downgraded, downgrade_ind = 0 means customer did not downgrade\n",
    "df_clean.groupby(['churn_ind', 'auth']).agg(countDistinct('userId').alias('user_count')).sort(\"churn_ind\",\"auth\").show()\n",
    "df_clean.groupby(['downgrade_ind', 'auth']).agg(countDistinct('userId').alias('user_count')).sort(\"downgrade_ind\",\"auth\").show()"
   ]
  },
  {
   "cell_type": "code",
   "execution_count": 87,
   "metadata": {},
   "outputs": [
    {
     "data": {
      "image/png": "[encoded data removed]",
      "text/plain": [
       "<matplotlib.figure.Figure at 0x7fe353fec1d0>"
      ]
     },
     "metadata": {
      "needs_background": "light"
     },
     "output_type": "display_data"
    },
    {
     "data": {
      "image/png": "[encoded data removed]",
      "text/plain": [
       "<matplotlib.figure.Figure at 0x7fe353424ef0>"
      ]
     },
     "metadata": {
      "needs_background": "light"
     },
     "output_type": "display_data"
    }
   ],
   "source": [
    "fig = plt.figure(figsize=[20,6])\n",
    "plt.subplot(1, 2, 1)\n",
    "plt.title('Distribution of Users Who Churned vs Stayed by Gender')\n",
    "ax = sns.barplot(x = 'churn_ind', y = 'count',data = gender_churn, hue = 'gender')\n",
    "ax.set_xlabel(\"Churned / Not Churned\", fontsize = 15)\n",
    "ax.set_ylabel(\"Number of Customers\", fontsize = 15)\n",
    "plt.show()\n",
    "\n",
    "fig = plt.figure(figsize=[20,6])\n",
    "plt.subplot(1, 2, 2)\n",
    "plt.title('Distribution of Users Who Downgraded vs Stayed by Gender')\n",
    "ax = sns.barplot(x = 'downgrade_ind', y = 'count',data = gender_downgrade, hue = 'gender')\n",
    "ax.set_xlabel(\"Downgraded / Not Downgraded\", fontsize = 15)\n",
    "ax.set_ylabel(\"Number of Customers\", fontsize = 15)\n",
    "plt.show()"
   ]
  },
  {
   "cell_type": "code",
   "execution_count": 88,
   "metadata": {},
   "outputs": [
    {
     "name": "stdout",
     "output_type": "stream",
     "text": [
      "+---------+------+----------+\n",
      "|churn_ind|gender|user_count|\n",
      "+---------+------+----------+\n",
      "|        0|     F|        84|\n",
      "|        0|     M|        89|\n",
      "|        1|     F|        20|\n",
      "|        1|     M|        32|\n",
      "+---------+------+----------+\n",
      "\n",
      "+-------------+------+----------+\n",
      "|downgrade_ind|gender|user_count|\n",
      "+-------------+------+----------+\n",
      "|            0|     F|        76|\n",
      "|            0|     M|       100|\n",
      "|            1|     F|        28|\n",
      "|            1|     M|        21|\n",
      "+-------------+------+----------+\n",
      "\n"
     ]
    }
   ],
   "source": [
    "# Count the number of users who churned/downgraded vs not churned/downgraded for the service in gender distribution\n",
    "# churn_ind = 1 means customer churned, churn_ind = 0 means customer did not churn\n",
    "# downgrade_ind = 1 means customer downgraded, downgrade_ind = 0 means customer did not downgrade\n",
    "df_clean.groupby(['churn_ind', 'gender']).agg(countDistinct('userId').alias('user_count')).sort(\"churn_ind\",\"gender\").show()\n",
    "df_clean.groupby(['downgrade_ind', 'gender']).agg(countDistinct('userId').alias('user_count')).sort(\"downgrade_ind\",\"gender\").show()"
   ]
  },
  {
   "cell_type": "code",
   "execution_count": 89,
   "metadata": {},
   "outputs": [
    {
     "data": {
      "image/png": "[encoded data removed]",
      "text/plain": [
       "<matplotlib.figure.Figure at 0x7fe36ece8588>"
      ]
     },
     "metadata": {
      "needs_background": "light"
     },
     "output_type": "display_data"
    },
    {
     "data": {
      "image/png": "[encoded data removed]",
      "text/plain": [
       "<matplotlib.figure.Figure at 0x7fe36ec6ec50>"
      ]
     },
     "metadata": {
      "needs_background": "light"
     },
     "output_type": "display_data"
    }
   ],
   "source": [
    "fig = plt.figure(figsize=[20,6])\n",
    "plt.subplot(1, 2, 1)\n",
    "plt.title('Distribution of Users Who Churned vs Stayed by Level')\n",
    "ax = sns.barplot(x = 'churn_ind', y = 'count',data = level_churn, hue = 'level')\n",
    "ax.set_xlabel(\"Churned / Not Churned\", fontsize = 15)\n",
    "ax.set_ylabel(\"Number of Customers\", fontsize = 15)\n",
    "plt.show()\n",
    "\n",
    "fig = plt.figure(figsize=[20,6])\n",
    "plt.subplot(1, 2, 2)\n",
    "plt.title('Distribution of Users Who Downgraded vs Stayed by Level')\n",
    "ax = sns.barplot(x = 'downgrade_ind', y = 'count',data = level_downgrade, hue = 'level')\n",
    "ax.set_xlabel(\"Downgraded / Not Downgraded\", fontsize = 15)\n",
    "ax.set_ylabel(\"Number of Customers\", fontsize = 15)\n",
    "plt.show()"
   ]
  },
  {
   "cell_type": "code",
   "execution_count": 90,
   "metadata": {},
   "outputs": [
    {
     "name": "stdout",
     "output_type": "stream",
     "text": [
      "+---------+-----+----------+\n",
      "|churn_ind|level|user_count|\n",
      "+---------+-----+----------+\n",
      "|        0| free|       149|\n",
      "|        0| paid|       129|\n",
      "|        1| free|        46|\n",
      "|        1| paid|        36|\n",
      "+---------+-----+----------+\n",
      "\n",
      "+-------------+-----+----------+\n",
      "|downgrade_ind|level|user_count|\n",
      "+-------------+-----+----------+\n",
      "|            0| free|       146|\n",
      "|            0| paid|       116|\n",
      "|            1| free|        49|\n",
      "|            1| paid|        49|\n",
      "+-------------+-----+----------+\n",
      "\n"
     ]
    }
   ],
   "source": [
    "# Count the number of users who churned/downgraded vs not churned/downgraded for the service in customer level distribution\n",
    "# churn_ind = 1 means customer churned, churn_ind = 0 means customer did not churn\n",
    "# downgrade_ind = 1 means customer downgraded, downgrade_ind = 0 means customer did not downgrade\n",
    "df_clean.groupby(['churn_ind', 'level']).agg(countDistinct('userId').alias('user_count')).sort(\"churn_ind\",\"level\").show()\n",
    "df_clean.groupby(['downgrade_ind', 'level']).agg(countDistinct('userId').alias('user_count')).sort(\"downgrade_ind\",\"level\").show()"
   ]
  },
  {
   "cell_type": "code",
   "execution_count": 91,
   "metadata": {},
   "outputs": [
    {
     "data": {
      "image/png": "[encoded data removed]",
      "text/plain": [
       "<matplotlib.figure.Figure at 0x7fe36e6c9358>"
      ]
     },
     "metadata": {
      "needs_background": "light"
     },
     "output_type": "display_data"
    },
    {
     "data": {
      "image/png": "[encoded data removed]",
      "text/plain": [
       "<matplotlib.figure.Figure at 0x7fe36e190f28>"
      ]
     },
     "metadata": {
      "needs_background": "light"
     },
     "output_type": "display_data"
    }
   ],
   "source": [
    "fig = plt.figure(figsize=[20,6])\n",
    "\n",
    "plt.subplot(1, 2, 1)\n",
    "plt.title('Distribution of Users Who Churned vs Stayed by Agent')\n",
    "ax = sns.barplot(x = 'churn_ind', y = 'count',data = agent_churn, hue = 'agent')\n",
    "ax.set_xlabel(\"Churned / Not Churned\", fontsize = 15)\n",
    "ax.set_ylabel(\"Number of Customers\", fontsize = 15)\n",
    "plt.show()\n",
    "\n",
    "fig = plt.figure(figsize=[20,6])\n",
    "plt.subplot(1, 2, 2)\n",
    "plt.title('Distribution of Users Who Downgraded vs Stayed by Agent')\n",
    "ax = sns.barplot(x = 'downgrade_ind', y = 'count',data = agent_downgrade, hue = 'agent')\n",
    "ax.set_xlabel(\"Downgraded / Not Downgraded\", fontsize = 15)\n",
    "ax.set_ylabel(\"Number of Customers\", fontsize = 15)\n",
    "plt.show()"
   ]
  },
  {
   "cell_type": "code",
   "execution_count": 92,
   "metadata": {},
   "outputs": [
    {
     "name": "stdout",
     "output_type": "stream",
     "text": [
      "+---------+----------+----------+\n",
      "|churn_ind|     agent|user_count|\n",
      "+---------+----------+----------+\n",
      "|        0| Macintosh|        67|\n",
      "|        0|   Windows|        82|\n",
      "|        0|       X11|         7|\n",
      "|        0|compatible|         5|\n",
      "|        0|      iPad|         3|\n",
      "|        0|    iPhone|         9|\n",
      "|        1| Macintosh|        19|\n",
      "|        1|   Windows|        24|\n",
      "|        1|       X11|         5|\n",
      "|        1|    iPhone|         4|\n",
      "+---------+----------+----------+\n",
      "\n",
      "+-------------+----------+----------+\n",
      "|downgrade_ind|     agent|user_count|\n",
      "+-------------+----------+----------+\n",
      "|            0| Macintosh|        65|\n",
      "|            0|   Windows|        85|\n",
      "|            0|       X11|        11|\n",
      "|            0|compatible|         3|\n",
      "|            0|      iPad|         2|\n",
      "|            0|    iPhone|        10|\n",
      "|            1| Macintosh|        21|\n",
      "|            1|   Windows|        21|\n",
      "|            1|       X11|         1|\n",
      "|            1|compatible|         2|\n",
      "|            1|      iPad|         1|\n",
      "|            1|    iPhone|         3|\n",
      "+-------------+----------+----------+\n",
      "\n"
     ]
    }
   ],
   "source": [
    "# Count the number of users who churned/downgraded vs not churned/downgraded for the service in browser distribution\n",
    "# churn_ind = 1 means customer churned, churn_ind = 0 means customer did not churn\n",
    "# downgrade_ind = 1 means customer downgraded, downgrade_ind = 0 means customer did not downgrade\n",
    "df_clean.groupby(['churn_ind', 'agent']).agg(countDistinct('userId').alias('user_count')).sort(\"churn_ind\",\"agent\").show()\n",
    "df_clean.groupby(['downgrade_ind', 'agent']).agg(countDistinct('userId').alias('user_count')).sort(\"downgrade_ind\",\"agent\").show()"
   ]
  },
  {
   "cell_type": "code",
   "execution_count": 93,
   "metadata": {},
   "outputs": [
    {
     "data": {
      "image/png": "[encoded data removed]",
      "text/plain": [
       "<matplotlib.figure.Figure at 0x7fe36e9b7588>"
      ]
     },
     "metadata": {
      "needs_background": "light"
     },
     "output_type": "display_data"
    },
    {
     "data": {
      "image/png": "[encoded data removed]",
      "text/plain": [
       "<matplotlib.figure.Figure at 0x7fe36d72c940>"
      ]
     },
     "metadata": {
      "needs_background": "light"
     },
     "output_type": "display_data"
    }
   ],
   "source": [
    "fig = plt.figure(figsize=[20,6])\n",
    "\n",
    "plt.subplot(1, 2, 1)\n",
    "plt.title('Distribution of Users Who Churned vs Stayed by Status')\n",
    "ax = sns.barplot(x = 'churn_ind', y = 'count',data = status_churn, hue = 'status')\n",
    "ax.set_xlabel(\"Churned / Not Churned\", fontsize = 15)\n",
    "ax.set_ylabel(\"Number of Customers\", fontsize = 15)\n",
    "plt.show()\n",
    "\n",
    "fig = plt.figure(figsize=[20,6])\n",
    "plt.subplot(1, 2, 2)\n",
    "plt.title('Distribution of Users Who Downgraded vs Stayed by Status')\n",
    "ax = sns.barplot(x = 'downgrade_ind', y = 'count',data = status_downgrade, hue = 'status')\n",
    "ax.set_xlabel(\"Downgraded / Not Downgraded\", fontsize = 15)\n",
    "ax.set_ylabel(\"Number of Customers\", fontsize = 15)\n",
    "plt.show()"
   ]
  },
  {
   "cell_type": "code",
   "execution_count": 94,
   "metadata": {},
   "outputs": [
    {
     "name": "stdout",
     "output_type": "stream",
     "text": [
      "+---------+------+----------+\n",
      "|churn_ind|status|user_count|\n",
      "+---------+------+----------+\n",
      "|        0|   200|       173|\n",
      "|        0|   307|       171|\n",
      "|        0|   404|        95|\n",
      "|        1|   200|        52|\n",
      "|        1|   307|        52|\n",
      "|        1|   404|        22|\n",
      "+---------+------+----------+\n",
      "\n",
      "+-------------+------+----------+\n",
      "|downgrade_ind|status|user_count|\n",
      "+-------------+------+----------+\n",
      "|            0|   200|       176|\n",
      "|            0|   307|       174|\n",
      "|            0|   404|        84|\n",
      "|            1|   200|        49|\n",
      "|            1|   307|        49|\n",
      "|            1|   404|        33|\n",
      "+-------------+------+----------+\n",
      "\n"
     ]
    }
   ],
   "source": [
    "# Count the number of users who churned/downgraded vs not churned/downgraded for the status distribution\n",
    "# churn_ind = 1 means customer churned, churn_ind = 0 means customer did not churn\n",
    "# downgrade_ind = 1 means customer downgraded, downgrade_ind = 0 means customer did not downgrade\n",
    "df_clean.groupby(['churn_ind', 'status']).agg(countDistinct('userId').alias('user_count')).sort(\"churn_ind\",\"status\").show()\n",
    "df_clean.groupby(['downgrade_ind', 'status']).agg(countDistinct('userId').alias('user_count')).sort(\"downgrade_ind\",\"status\").show()"
   ]
  },
  {
   "cell_type": "markdown",
   "metadata": {},
   "source": [
    "# Feature Engineering\n",
    "Once familiarized with the data, the most promising features will be built/used to train your model on.\n",
    "\n",
    "Steps include:\n",
    "- Write a script to extract the necessary features \n",
    "- Ensure that your script is scalable\n",
    "- Debug if necessary"
   ]
  },
  {
   "cell_type": "code",
   "execution_count": 95,
   "metadata": {},
   "outputs": [
    {
     "name": "stdout",
     "output_type": "stream",
     "text": [
      "+------+----------------+-------------+---------+------+-------------+---------+-----+--------------------+------+--------+-------------+---------+-----------------+------+-------------+--------+-------+----------+----+---+-----+----+----------+-------+---------+-------------+------------+\n",
      "|userId|last_interaction|       artist|     auth|gender|itemInSession|   length|level|            location|method|    page| registration|sessionId|             song|status|           ts|  market|  agent| shortdate|hour|day|month|year|downgraded|churned|churn_ind|downgrade_ind|time_as_user|\n",
      "+------+----------------+-------------+---------+------+-------------+---------+-----+--------------------+------+--------+-------------+---------+-----------------+------+-------------+--------+-------+----------+----+---+-----+----+----------+-------+---------+-------------+------------+\n",
      "|   126|   1543592476000|         null|Logged In|     M|            0|     null| free|New York-Newark-J...|   GET|    Home|1538227408000|      125|             null|   200|1538387004000|NY-NJ-PA|Windows|2018-10-01|   9|  1|   10|2018|         0|      0|        0|            0|          62|\n",
      "|   126|   1543592476000|Justin Bieber|Logged In|     M|            1|232.69832| free|New York-Newark-J...|   PUT|NextSong|1538227408000|      125|That Should Be Me|   200|1538387041000|NY-NJ-PA|Windows|2018-10-01|   9|  1|   10|2018|         0|      0|        0|            0|          62|\n",
      "+------+----------------+-------------+---------+------+-------------+---------+-----+--------------------+------+--------+-------------+---------+-----------------+------+-------------+--------+-------+----------+----+---+-----+----+----------+-------+---------+-------------+------------+\n",
      "only showing top 2 rows\n",
      "\n"
     ]
    }
   ],
   "source": [
    "# Create a variable to show how long the user has been a member\n",
    "cancel = df_clean.groupBy('userId').agg(max('ts').alias('last_interaction'))\n",
    "df_clean = cancel.join(df_clean, on='userId').withColumn('time_as_user', ((col('last_interaction')-col('registration'))/86400000).cast(IntegerType()))\n",
    "df_clean.show(2)"
   ]
  },
  {
   "cell_type": "code",
   "execution_count": 115,
   "metadata": {},
   "outputs": [
    {
     "name": "stdout",
     "output_type": "stream",
     "text": [
      "+-------+-----------------+\n",
      "|churned|avg(time_as_user)|\n",
      "+-------+-----------------+\n",
      "|      0|88.54693961208477|\n",
      "|      1|56.80769230769231|\n",
      "+-------+-----------------+\n",
      "\n"
     ]
    }
   ],
   "source": [
    "# how long have users been using the service on average by churn\n",
    "time_as_user_df = df_clean.groupby('churned').agg({\"time_as_user\":\"avg\"})\n",
    "df_clean.groupby('churned').agg({\"time_as_user\":\"avg\"}).show()"
   ]
  },
  {
   "cell_type": "code",
   "execution_count": 118,
   "metadata": {},
   "outputs": [
    {
     "data": {
      "image/png": "[encoded data removed]",
      "text/plain": [
       "<matplotlib.figure.Figure at 0x7fe36780b320>"
      ]
     },
     "metadata": {
      "needs_background": "light"
     },
     "output_type": "display_data"
    }
   ],
   "source": [
    "# convert to a pandas df\n",
    "time_as_user_df = time_as_user_df.toPandas()\n",
    "\n",
    "#plot\n",
    "plt.figure(figsize = [8,6])\n",
    "ax = sns.barplot(data = time_as_user_df, x = 'churned', y='avg(time_as_user)')\n",
    "plt.title(\"Average Time As Users (Churned vs. Not Churned\")\n",
    "plt.ylabel(\"Average Time As Users (Days)\");"
   ]
  },
  {
   "cell_type": "code",
   "execution_count": 100,
   "metadata": {},
   "outputs": [
    {
     "name": "stdout",
     "output_type": "stream",
     "text": [
      "+------+----------------+--------------------+---------+------+---------+-----+--------------------+------+--------+-------------+---------+--------------------+------+-------------+------+------+----------+----+---+-----+----+----------+-------+---------+-------------+------------+-----------------+\n",
      "|userId|last_interaction|              artist|     auth|gender|   length|level|            location|method|    page| registration|sessionId|                song|status|           ts|market| agent| shortdate|hour|day|month|year|downgraded|churned|churn_ind|downgrade_ind|time_as_user|    daily_actions|\n",
      "+------+----------------+--------------------+---------+------+---------+-----+--------------------+------+--------+-------------+---------+--------------------+------+-------------+------+------+----------+----+---+-----+----+----------+-------+---------+-------------+------------+-----------------+\n",
      "|100010|   1542823952000|Sleeping With Sirens|Logged In|     F|202.97098| free|Bridgeport-Stamfo...|   PUT|NextSong|1538016340000|       31|Captain Tyin Knot...|   200|1539003534000|    CT|iPhone|2018-10-08|  12|  8|   10|2018|         0|      0|        0|            0|          55|54.42857142857143|\n",
      "|100010|   1542823952000|Francesca Battist...|Logged In|     F|196.54485| free|Bridgeport-Stamfo...|   PUT|NextSong|1538016340000|       31|Beautiful_ Beauti...|   200|1539003736000|    CT|iPhone|2018-10-08|  13|  8|   10|2018|         0|      0|        0|            0|          55|54.42857142857143|\n",
      "+------+----------------+--------------------+---------+------+---------+-----+--------------------+------+--------+-------------+---------+--------------------+------+-------------+------+------+----------+----+---+-----+----+----------+-------+---------+-------------+------------+-----------------+\n",
      "only showing top 2 rows\n",
      "\n"
     ]
    }
   ],
   "source": [
    "# Create variables to determine how much the user uses the app daily (actions in the app)\n",
    "daily_actions = df_clean.groupby('userId','shortdate').agg(max('itemInSession')).groupBy('userId').avg('max(itemInSession)').\\\n",
    "                                                            withColumnRenamed('avg(max(itemInSession))', 'daily_actions')\n",
    "df_clean = df_clean.join(daily_actions, on='userId')\n",
    "df_clean = df_clean.drop('itemInSession')\n",
    "df_clean.show(2)"
   ]
  },
  {
   "cell_type": "code",
   "execution_count": 120,
   "metadata": {},
   "outputs": [
    {
     "name": "stdout",
     "output_type": "stream",
     "text": [
      "+-------+------------------+\n",
      "|churned|avg(daily_actions)|\n",
      "+-------+------------------+\n",
      "|      0|125.59046013646415|\n",
      "|      1| 89.11598218376122|\n",
      "+-------+------------------+\n",
      "\n"
     ]
    }
   ],
   "source": [
    "# how many daily actions does an user have on average by churn\n",
    "daily_actions_df = df_clean.groupby('churned').agg({\"daily_actions\":\"avg\"})\n",
    "df_clean.groupby('churned').agg({\"daily_actions\":\"avg\"}).show()"
   ]
  },
  {
   "cell_type": "code",
   "execution_count": 123,
   "metadata": {},
   "outputs": [
    {
     "data": {
      "image/png": "[encoded data removed]",
      "text/plain": [
       "<matplotlib.figure.Figure at 0x7fe366b7a2e8>"
      ]
     },
     "metadata": {
      "needs_background": "light"
     },
     "output_type": "display_data"
    }
   ],
   "source": [
    "# convert to a pandas df\n",
    "daily_actions_df = daily_actions_df.toPandas()\n",
    "\n",
    "#plot\n",
    "plt.figure(figsize = [8,6])\n",
    "ax = sns.barplot(data = daily_actions_df, x = 'churned', y='avg(daily_actions)')\n",
    "plt.title(\"Average Number of Daily Actions (Churned vs. Not Churned)\")\n",
    "plt.ylabel(\"Average Number of Daily Actions\");"
   ]
  },
  {
   "cell_type": "code",
   "execution_count": 102,
   "metadata": {},
   "outputs": [
    {
     "name": "stdout",
     "output_type": "stream",
     "text": [
      "+------+----------------+--------------------+---------+------+---------+-----+--------------------+------+--------+-------------+---------+--------------------+------+-------------+------+------+----------+----+---+-----+----+----------+-------+---------+-------------+------------+-----------------+------------------+\n",
      "|userId|last_interaction|              artist|     auth|gender|   length|level|            location|method|    page| registration|sessionId|                song|status|           ts|market| agent| shortdate|hour|day|month|year|downgraded|churned|churn_ind|downgrade_ind|time_as_user|    daily_actions|     songs_per_day|\n",
      "+------+----------------+--------------------+---------+------+---------+-----+--------------------+------+--------+-------------+---------+--------------------+------+-------------+------+------+----------+----+---+-----+----+----------+-------+---------+-------------+------------+-----------------+------------------+\n",
      "|100010|   1542823952000|Sleeping With Sirens|Logged In|     F|202.97098| free|Bridgeport-Stamfo...|   PUT|NextSong|1538016340000|       31|Captain Tyin Knot...|   200|1539003534000|    CT|iPhone|2018-10-08|  12|  8|   10|2018|         0|      0|        0|            0|          55|54.42857142857143|39.142857142857146|\n",
      "|100010|   1542823952000|Francesca Battist...|Logged In|     F|196.54485| free|Bridgeport-Stamfo...|   PUT|NextSong|1538016340000|       31|Beautiful_ Beauti...|   200|1539003736000|    CT|iPhone|2018-10-08|  13|  8|   10|2018|         0|      0|        0|            0|          55|54.42857142857143|39.142857142857146|\n",
      "+------+----------------+--------------------+---------+------+---------+-----+--------------------+------+--------+-------------+---------+--------------------+------+-------------+------+------+----------+----+---+-----+----+----------+-------+---------+-------------+------------+-----------------+------------------+\n",
      "only showing top 2 rows\n",
      "\n"
     ]
    }
   ],
   "source": [
    "# songs played per day\n",
    "daily_songs = df_clean.groupBy('userId','shortdate').agg(countDistinct('song').alias('songs')).sort('userId')\n",
    "songs_per_day = daily_songs.groupBy('userId').avg('songs').withColumnRenamed('avg(songs)', 'songs_per_day')\n",
    "df_clean = df_clean.join(songs_per_day, on='userId')\n",
    "df_clean.show(2)"
   ]
  },
  {
   "cell_type": "code",
   "execution_count": 124,
   "metadata": {},
   "outputs": [
    {
     "name": "stdout",
     "output_type": "stream",
     "text": [
      "+-------+------------------+\n",
      "|churned|avg(songs_per_day)|\n",
      "+-------+------------------+\n",
      "|      0|  82.2059531600284|\n",
      "|      1| 60.44755800236331|\n",
      "+-------+------------------+\n",
      "\n"
     ]
    }
   ],
   "source": [
    "# how many songs per day does an user play on average by churn\n",
    "songs_per_day_df = df_clean.groupby('churned').agg({\"songs_per_day\":\"avg\"})\n",
    "df_clean.groupby('churned').agg({\"songs_per_day\":\"avg\"}).show()"
   ]
  },
  {
   "cell_type": "code",
   "execution_count": 125,
   "metadata": {},
   "outputs": [
    {
     "data": {
      "image/png": "[encoded data removed]",
      "text/plain": [
       "<matplotlib.figure.Figure at 0x7fe36ce18198>"
      ]
     },
     "metadata": {
      "needs_background": "light"
     },
     "output_type": "display_data"
    }
   ],
   "source": [
    "# convert to a pandas df\n",
    "songs_per_day_df = songs_per_day_df.toPandas()\n",
    "\n",
    "#plot\n",
    "plt.figure(figsize = [8,6])\n",
    "ax = sns.barplot(data = songs_per_day_df, x = 'churned', y='avg(songs_per_day)')\n",
    "plt.title(\"Average Number of Songs Played Daily (Churned vs. Not Churned\")\n",
    "plt.ylabel(\"Average Number of Songs Played Daily\");"
   ]
  },
  {
   "cell_type": "code",
   "execution_count": 105,
   "metadata": {},
   "outputs": [
    {
     "name": "stdout",
     "output_type": "stream",
     "text": [
      "+------+----------------+--------------------+---------+------+---------+-----+--------------------+------+--------+-------------+---------+--------------------+------+-------------+------+------+----------+----+---+-----+----+----------+-------+---------+-------------+------------+-----------------+------------------+------------------+\n",
      "|userId|last_interaction|              artist|     auth|gender|   length|level|            location|method|    page| registration|sessionId|                song|status|           ts|market| agent| shortdate|hour|day|month|year|downgraded|churned|churn_ind|downgrade_ind|time_as_user|    daily_actions|     songs_per_day| songs_per_session|\n",
      "+------+----------------+--------------------+---------+------+---------+-----+--------------------+------+--------+-------------+---------+--------------------+------+-------------+------+------+----------+----+---+-----+----+----------+-------+---------+-------------+------------+-----------------+------------------+------------------+\n",
      "|100010|   1542823952000|Sleeping With Sirens|Logged In|     F|202.97098| free|Bridgeport-Stamfo...|   PUT|NextSong|1538016340000|       31|Captain Tyin Knot...|   200|1539003534000|    CT|iPhone|2018-10-08|  12|  8|   10|2018|         0|      0|        0|            0|          55|54.42857142857143|39.142857142857146|39.142857142857146|\n",
      "|100010|   1542823952000|Francesca Battist...|Logged In|     F|196.54485| free|Bridgeport-Stamfo...|   PUT|NextSong|1538016340000|       31|Beautiful_ Beauti...|   200|1539003736000|    CT|iPhone|2018-10-08|  13|  8|   10|2018|         0|      0|        0|            0|          55|54.42857142857143|39.142857142857146|39.142857142857146|\n",
      "+------+----------------+--------------------+---------+------+---------+-----+--------------------+------+--------+-------------+---------+--------------------+------+-------------+------+------+----------+----+---+-----+----+----------+-------+---------+-------------+------------+-----------------+------------------+------------------+\n",
      "only showing top 2 rows\n",
      "\n"
     ]
    }
   ],
   "source": [
    "# amount of songs played per session\n",
    "session_songs = df_clean.groupBy('userId','sessionId').agg(countDistinct('song').alias('session_songs')).sort('userId')\n",
    "songs_per_session = session_songs.groupBy('userId').avg('session_songs').withColumnRenamed('avg(session_songs)', 'songs_per_session')\n",
    "df_clean = df_clean.join(songs_per_session, on='userId')\n",
    "df_clean.show(2)"
   ]
  },
  {
   "cell_type": "code",
   "execution_count": 126,
   "metadata": {},
   "outputs": [
    {
     "name": "stdout",
     "output_type": "stream",
     "text": [
      "+-------+----------------------+\n",
      "|churned|avg(songs_per_session)|\n",
      "+-------+----------------------+\n",
      "|      0|     84.71417836925623|\n",
      "|      1|     60.82871375335593|\n",
      "+-------+----------------------+\n",
      "\n"
     ]
    }
   ],
   "source": [
    "# how many songs per session does an user play on average by churn\n",
    "songs_per_session_df = df_clean.groupby('churned').agg({\"songs_per_session\":\"avg\"})\n",
    "df_clean.groupby('churned').agg({\"songs_per_session\":\"avg\"}).show()"
   ]
  },
  {
   "cell_type": "code",
   "execution_count": 129,
   "metadata": {},
   "outputs": [
    {
     "data": {
      "image/png": "[encoded data removed]",
      "text/plain": [
       "<matplotlib.figure.Figure at 0x7fe3666d4208>"
      ]
     },
     "metadata": {
      "needs_background": "light"
     },
     "output_type": "display_data"
    }
   ],
   "source": [
    "# convert to a pandas df\n",
    "songs_per_session_df = songs_per_session_df.toPandas()\n",
    "\n",
    "#plot\n",
    "plt.figure(figsize = [8,6])\n",
    "ax = sns.barplot(data = songs_per_session_df, x = 'churned', y='avg(songs_per_session)')\n",
    "plt.title(\"Average Number of Songs Played per Session (Churned vs. Not Churned\")\n",
    "plt.ylabel(\"Average Number of Songs Played per Session\");"
   ]
  },
  {
   "cell_type": "code",
   "execution_count": 94,
   "metadata": {},
   "outputs": [
    {
     "name": "stdout",
     "output_type": "stream",
     "text": [
      "+------+----------------+--------------------+---------+------+---------+--------------------+------+--------+-------------+---------+--------------------+------+-------------+------+------+----------+----+---+-----+----+----------+-------+---------+-------------+------------+-----------------+------------------+------------------+-----+\n",
      "|userId|last_interaction|              artist|     auth|gender|   length|            location|method|    page| registration|sessionId|                song|status|           ts|market| agent| shortdate|hour|day|month|year|downgraded|churned|churn_ind|downgrade_ind|time_as_user|    daily_actions|     songs_per_day| songs_per_session|level|\n",
      "+------+----------------+--------------------+---------+------+---------+--------------------+------+--------+-------------+---------+--------------------+------+-------------+------+------+----------+----+---+-----+----+----------+-------+---------+-------------+------------+-----------------+------------------+------------------+-----+\n",
      "|100010|   1542823952000|Sleeping With Sirens|Logged In|     F|202.97098|Bridgeport-Stamfo...|   PUT|NextSong|1538016340000|       31|Captain Tyin Knot...|   200|1539003534000|    CT|iPhone|2018-10-08|  12|  8|   10|2018|         0|      0|        0|            0|          55|54.42857142857143|39.142857142857146|39.142857142857146| free|\n",
      "|100010|   1542823952000|Francesca Battist...|Logged In|     F|196.54485|Bridgeport-Stamfo...|   PUT|NextSong|1538016340000|       31|Beautiful_ Beauti...|   200|1539003736000|    CT|iPhone|2018-10-08|  13|  8|   10|2018|         0|      0|        0|            0|          55|54.42857142857143|39.142857142857146|39.142857142857146| free|\n",
      "+------+----------------+--------------------+---------+------+---------+--------------------+------+--------+-------------+---------+--------------------+------+-------------+------+------+----------+----+---+-----+----+----------+-------+---------+-------------+------------+-----------------+------------------+------------------+-----+\n",
      "only showing top 2 rows\n",
      "\n"
     ]
    }
   ],
   "source": [
    "# Create a data set with one record per userId to indicate if they churned or not\n",
    "levels = df_clean.sort(col(\"userId\"),col(\"ts\").desc()).dropDuplicates([\"userId\"])\n",
    "levels = levels.select(['userId', 'level'])\n",
    "df_clean = df_clean.drop('level')\n",
    "df_clean = df_clean.join(levels, on='userId')\n",
    "df_clean.show(2)"
   ]
  },
  {
   "cell_type": "code",
   "execution_count": 95,
   "metadata": {},
   "outputs": [
    {
     "name": "stdout",
     "output_type": "stream",
     "text": [
      "root\n",
      " |-- userId: string (nullable = true)\n",
      " |-- last_interaction: string (nullable = true)\n",
      " |-- artist: string (nullable = true)\n",
      " |-- auth: string (nullable = true)\n",
      " |-- gender: string (nullable = true)\n",
      " |-- length: string (nullable = true)\n",
      " |-- location: string (nullable = true)\n",
      " |-- method: string (nullable = true)\n",
      " |-- page: string (nullable = true)\n",
      " |-- registration: string (nullable = true)\n",
      " |-- sessionId: string (nullable = true)\n",
      " |-- song: string (nullable = true)\n",
      " |-- status: string (nullable = true)\n",
      " |-- ts: string (nullable = true)\n",
      " |-- market: string (nullable = true)\n",
      " |-- agent: string (nullable = true)\n",
      " |-- shortdate: string (nullable = true)\n",
      " |-- hour: string (nullable = true)\n",
      " |-- day: string (nullable = true)\n",
      " |-- month: string (nullable = true)\n",
      " |-- year: string (nullable = true)\n",
      " |-- downgraded: string (nullable = true)\n",
      " |-- churned: string (nullable = true)\n",
      " |-- churn_ind: string (nullable = true)\n",
      " |-- downgrade_ind: string (nullable = true)\n",
      " |-- time_as_user: integer (nullable = true)\n",
      " |-- daily_actions: double (nullable = true)\n",
      " |-- songs_per_day: double (nullable = true)\n",
      " |-- songs_per_session: double (nullable = true)\n",
      " |-- level: string (nullable = true)\n",
      "\n"
     ]
    }
   ],
   "source": [
    "df_clean.printSchema()"
   ]
  },
  {
   "cell_type": "markdown",
   "metadata": {},
   "source": [
    "#### Recode variables to numeric representation"
   ]
  },
  {
   "cell_type": "code",
   "execution_count": 96,
   "metadata": {},
   "outputs": [],
   "source": [
    "df_clean = df_clean.withColumn(\"gender_ind\", when(df_clean.gender == \"M\",1)\n",
    "                                 .when(df_clean.gender == \"F\",0)\n",
    "                                 .otherwise(df_clean.gender))"
   ]
  },
  {
   "cell_type": "code",
   "execution_count": 97,
   "metadata": {},
   "outputs": [],
   "source": [
    "df_clean = df_clean.withColumn(\"level_ind\", when(df_clean.level == \"paid\",1)\n",
    "                                 .when(df_clean.level == \"free\",0)\n",
    "                                 .otherwise(df_clean.level))"
   ]
  },
  {
   "cell_type": "code",
   "execution_count": 98,
   "metadata": {},
   "outputs": [],
   "source": [
    "df_clean = df_clean.withColumn(\"downgrade_ind\",col(\"downgrade_ind\").cast(\"integer\"))\n",
    "df_clean = df_clean.withColumn(\"label\",col(\"churn_ind\").cast(\"integer\"))\n",
    "df_clean = df_clean.withColumn(\"gender_ind\",col(\"gender_ind\").cast(\"integer\"))\n",
    "df_clean = df_clean.withColumn(\"level_ind\",col(\"level_ind\").cast(\"integer\"))"
   ]
  },
  {
   "cell_type": "code",
   "execution_count": 99,
   "metadata": {},
   "outputs": [],
   "source": [
    "df_clean = df_clean.withColumn(\"churn_ind\",col(\"churn_ind\").cast(\"integer\"))"
   ]
  },
  {
   "cell_type": "code",
   "execution_count": 100,
   "metadata": {},
   "outputs": [
    {
     "name": "stdout",
     "output_type": "stream",
     "text": [
      "root\n",
      " |-- userId: string (nullable = true)\n",
      " |-- last_interaction: string (nullable = true)\n",
      " |-- artist: string (nullable = true)\n",
      " |-- auth: string (nullable = true)\n",
      " |-- gender: string (nullable = true)\n",
      " |-- length: string (nullable = true)\n",
      " |-- location: string (nullable = true)\n",
      " |-- method: string (nullable = true)\n",
      " |-- page: string (nullable = true)\n",
      " |-- registration: string (nullable = true)\n",
      " |-- sessionId: string (nullable = true)\n",
      " |-- song: string (nullable = true)\n",
      " |-- status: string (nullable = true)\n",
      " |-- ts: string (nullable = true)\n",
      " |-- market: string (nullable = true)\n",
      " |-- agent: string (nullable = true)\n",
      " |-- shortdate: string (nullable = true)\n",
      " |-- hour: string (nullable = true)\n",
      " |-- day: string (nullable = true)\n",
      " |-- month: string (nullable = true)\n",
      " |-- year: string (nullable = true)\n",
      " |-- downgraded: string (nullable = true)\n",
      " |-- churned: string (nullable = true)\n",
      " |-- churn_ind: integer (nullable = true)\n",
      " |-- downgrade_ind: integer (nullable = true)\n",
      " |-- time_as_user: integer (nullable = true)\n",
      " |-- daily_actions: double (nullable = true)\n",
      " |-- songs_per_day: double (nullable = true)\n",
      " |-- songs_per_session: double (nullable = true)\n",
      " |-- level: string (nullable = true)\n",
      " |-- gender_ind: integer (nullable = true)\n",
      " |-- level_ind: integer (nullable = true)\n",
      " |-- label: integer (nullable = true)\n",
      "\n"
     ]
    }
   ],
   "source": [
    "df_clean.printSchema()"
   ]
  },
  {
   "cell_type": "code",
   "execution_count": 101,
   "metadata": {},
   "outputs": [],
   "source": [
    "# Drop unneccessary variables and keep one record per user\n",
    "df_final = df_clean.drop('last_interaction', 'artist', 'auth', 'gender', 'length', 'location', 'method', 'page',\\\n",
    "                        'registration', 'sessionId', 'song', 'status', 'ts', 'market', 'agent', 'shortdate', 'hour', 'day',\\\n",
    "                        'month', 'year', 'churned', 'churn_ind', 'downgraded', 'level').dropDuplicates(['userId']).sort(\"userId\")"
   ]
  },
  {
   "cell_type": "code",
   "execution_count": 102,
   "metadata": {},
   "outputs": [
    {
     "name": "stdout",
     "output_type": "stream",
     "text": [
      "+------+-------------+------------+------------------+-----------------+-----------------+----------+---------+-----+\n",
      "|userId|downgrade_ind|time_as_user|     daily_actions|    songs_per_day|songs_per_session|gender_ind|level_ind|label|\n",
      "+------+-------------+------------+------------------+-----------------+-----------------+----------+---------+-----+\n",
      "|    10|            0|          51|            154.75|            83.25|            110.0|         1|        1|    0|\n",
      "|   100|            1|          64|118.33333333333333| 79.9090909090909|             75.4|         1|        1|    0|\n",
      "|100001|            0|          44|              62.0|             66.0|            33.25|         0|        0|    1|\n",
      "|100002|            0|         160|              69.6|             39.0|             48.5|         0|        1|    0|\n",
      "|100003|            0|          22|              41.0|             25.5|             25.5|         0|        0|    1|\n",
      "|100004|            1|         172| 76.42105263157895|48.89473684210526|44.19047619047619|         0|        1|    0|\n",
      "|100005|            0|          85|              53.5|             38.5|             30.8|         1|        0|    1|\n",
      "|100006|            0|           9|              45.0|             26.0|             26.0|         0|        0|    1|\n",
      "|100007|            0|         115|              58.0|46.77777777777778|46.77777777777778|         0|        1|    1|\n",
      "|100008|            1|          68|             150.0|            94.75|            125.0|         0|        0|    0|\n",
      "+------+-------------+------------+------------------+-----------------+-----------------+----------+---------+-----+\n",
      "only showing top 10 rows\n",
      "\n"
     ]
    }
   ],
   "source": [
    "df_final.show(10)"
   ]
  },
  {
   "cell_type": "code",
   "execution_count": 103,
   "metadata": {},
   "outputs": [],
   "source": [
    "df_final = df_final.drop('userId')"
   ]
  },
  {
   "cell_type": "code",
   "execution_count": 104,
   "metadata": {},
   "outputs": [],
   "source": [
    "# Wrtie cleaned data file to folder\n",
    "#df_final.write.csv(\"Sparkify_Data_Final.csv\",header = 'true')"
   ]
  },
  {
   "cell_type": "code",
   "execution_count": 146,
   "metadata": {},
   "outputs": [
    {
     "data": {
      "text/plain": [
       "Row(downgrade_ind='0', time_as_user='116', daily_actions='374.11764705882354', songs_per_day='148.1764705882353', songs_per_session='272.77777777777777', gender_ind='1', level_ind='1', label='0')"
      ]
     },
     "execution_count": 146,
     "metadata": {},
     "output_type": "execute_result"
    }
   ],
   "source": [
    "# Read in cleaned data set\n",
    "df_final = spark.read.csv(\"Sparkify_Data_Final.csv\",header = 'true')\n",
    "df_final.head()"
   ]
  },
  {
   "cell_type": "markdown",
   "metadata": {},
   "source": [
    "# Modeling\n",
    "Split the full dataset into train, test, and validation sets. Test out several of the machine learning methods you learned. Evaluate the accuracy of the various models, tuning parameters as necessary. Determine your winning model based on test accuracy and report results on the validation set. Since the churned users are a fairly small subset, I suggest using F1 score as the metric to optimize."
   ]
  },
  {
   "cell_type": "markdown",
   "metadata": {},
   "source": [
    "### Train Pipeline\n",
    "- Split data into train and test sets\n",
    "- Train pipeline"
   ]
  },
  {
   "cell_type": "code",
   "execution_count": 147,
   "metadata": {},
   "outputs": [],
   "source": [
    "# make sure each variable is presented as a number\n",
    "for col in df_final.columns:\n",
    "    df_final = df_final.withColumn(col, df_final[col].cast('float'))"
   ]
  },
  {
   "cell_type": "code",
   "execution_count": 148,
   "metadata": {},
   "outputs": [
    {
     "name": "stdout",
     "output_type": "stream",
     "text": [
      "root\n",
      " |-- downgrade_ind: float (nullable = true)\n",
      " |-- time_as_user: float (nullable = true)\n",
      " |-- daily_actions: float (nullable = true)\n",
      " |-- songs_per_day: float (nullable = true)\n",
      " |-- songs_per_session: float (nullable = true)\n",
      " |-- gender_ind: float (nullable = true)\n",
      " |-- level_ind: float (nullable = true)\n",
      " |-- label: float (nullable = true)\n",
      "\n"
     ]
    }
   ],
   "source": [
    "# verify it worked\n",
    "df_final.printSchema()"
   ]
  },
  {
   "cell_type": "code",
   "execution_count": 149,
   "metadata": {},
   "outputs": [],
   "source": [
    "# feature transformer that merges multiple columns into a vector column\n",
    "VA = VectorAssembler(inputCols = [\"downgrade_ind\", \"time_as_user\", \"daily_actions\", \"songs_per_day\", \"songs_per_session\", \"gender_ind\", \"level_ind\"], outputCol = \"features_vector\")"
   ]
  },
  {
   "cell_type": "code",
   "execution_count": 150,
   "metadata": {},
   "outputs": [
    {
     "name": "stdout",
     "output_type": "stream",
     "text": [
      "+-------------+------------+-------------+-------------+-----------------+----------+---------+-----+--------------------+\n",
      "|downgrade_ind|time_as_user|daily_actions|songs_per_day|songs_per_session|gender_ind|level_ind|label|     features_vector|\n",
      "+-------------+------------+-------------+-------------+-----------------+----------+---------+-----+--------------------+\n",
      "|          0.0|       116.0|    374.11765|    148.17647|        272.77777|       1.0|      1.0|  0.0|[0.0,116.0,374.11...|\n",
      "|          1.0|        83.0|    129.03703|   108.388885|         68.03488|       0.0|      0.0|  0.0|[1.0,83.0,129.037...|\n",
      "|          0.0|        75.0|    145.05556|     97.55556|        102.70588|       0.0|      1.0|  0.0|[0.0,75.0,145.055...|\n",
      "|          0.0|        95.0|    128.47368|     89.36842|         99.23529|       1.0|      1.0|  0.0|[0.0,95.0,128.473...|\n",
      "|          0.0|        69.0|    141.11111|    82.333336|        105.14286|       0.0|      1.0|  0.0|[0.0,69.0,141.111...|\n",
      "|          1.0|        77.0|    128.86957|     76.82609|         92.57895|       0.0|      1.0|  0.0|[1.0,77.0,128.869...|\n",
      "|          1.0|        63.0|     69.26923|    53.576923|         43.53125|       1.0|      1.0|  0.0|[1.0,63.0,69.2692...|\n",
      "|          0.0|       188.0|    126.05556|    95.611115|         90.52631|       0.0|      1.0|  1.0|[0.0,188.0,126.05...|\n",
      "|          0.0|       115.0|    146.10527|     86.36842|            108.8|       0.0|      1.0|  0.0|[0.0,115.0,146.10...|\n",
      "|          1.0|        58.0|     95.35714|     67.92857|        63.266666|       1.0|      0.0|  0.0|[1.0,58.0,95.3571...|\n",
      "|          0.0|        31.0|     110.7619|    65.809525|            68.65|       1.0|      1.0|  0.0|[0.0,31.0,110.761...|\n",
      "|          0.0|        27.0|    142.76923|     70.76923|        101.44444|       1.0|      1.0|  0.0|[0.0,27.0,142.769...|\n",
      "|          0.0|        64.0|    23.555555|    17.555555|            19.75|       1.0|      0.0|  0.0|[0.0,64.0,23.5555...|\n",
      "|          1.0|        42.0|    154.18182|    95.454544|         94.36364|       0.0|      1.0|  1.0|[1.0,42.0,154.181...|\n",
      "|          0.0|        98.0|    40.666668|    32.666668|        32.666668|       1.0|      0.0|  0.0|[0.0,98.0,40.6666...|\n",
      "|          0.0|       102.0|     102.8125|       69.375|         73.86667|       0.0|      1.0|  0.0|[0.0,102.0,102.81...|\n",
      "|          1.0|        64.0|      121.875|       89.125|        101.71429|       1.0|      1.0|  0.0|[1.0,64.0,121.875...|\n",
      "|          0.0|       256.0|    217.89285|    110.92857|        128.33333|       1.0|      1.0|  0.0|[0.0,256.0,217.89...|\n",
      "|          0.0|       162.0|    164.41667|   102.916664|       102.833336|       1.0|      1.0|  0.0|[0.0,162.0,164.41...|\n",
      "|          0.0|        71.0|         25.0|        13.25|        17.666666|       1.0|      0.0|  0.0|[0.0,71.0,25.0,13...|\n",
      "+-------------+------------+-------------+-------------+-----------------+----------+---------+-----+--------------------+\n",
      "only showing top 20 rows\n",
      "\n"
     ]
    }
   ],
   "source": [
    "df_final = VA.transform(df_final)\n",
    "df_final.show()"
   ]
  },
  {
   "cell_type": "code",
   "execution_count": 151,
   "metadata": {},
   "outputs": [],
   "source": [
    "# Standardize features by removing the mean and scaling to unit variance\n",
    "scaler = StandardScaler(inputCol=\"features_vector\", outputCol=\"features\", withStd=True)"
   ]
  },
  {
   "cell_type": "code",
   "execution_count": 152,
   "metadata": {},
   "outputs": [],
   "source": [
    "# fit to the data\n",
    "scaler_model = scaler.fit(df_final)"
   ]
  },
  {
   "cell_type": "code",
   "execution_count": 153,
   "metadata": {},
   "outputs": [],
   "source": [
    "# transform the data\n",
    "df_final = scaler_model.transform(df_final)"
   ]
  },
  {
   "cell_type": "code",
   "execution_count": 154,
   "metadata": {},
   "outputs": [
    {
     "name": "stdout",
     "output_type": "stream",
     "text": [
      "+-------------+------------+-------------+-------------+-----------------+----------+---------+-----+--------------------+--------------------+\n",
      "|downgrade_ind|time_as_user|daily_actions|songs_per_day|songs_per_session|gender_ind|level_ind|label|     features_vector|            features|\n",
      "+-------------+------------+-------------+-------------+-----------------+----------+---------+-----+--------------------+--------------------+\n",
      "|          0.0|       116.0|    374.11765|    148.17647|        272.77777|       1.0|      1.0|  0.0|[0.0,116.0,374.11...|[0.0,3.0812855079...|\n",
      "|          1.0|        83.0|    129.03703|   108.388885|         68.03488|       0.0|      0.0|  0.0|[1.0,83.0,129.037...|[2.41746889207614...|\n",
      "|          0.0|        75.0|    145.05556|     97.55556|        102.70588|       0.0|      1.0|  0.0|[0.0,75.0,145.055...|[0.0,1.9922104577...|\n",
      "|          0.0|        95.0|    128.47368|     89.36842|         99.23529|       1.0|      1.0|  0.0|[0.0,95.0,128.473...|[0.0,2.5234665797...|\n",
      "|          0.0|        69.0|    141.11111|    82.333336|        105.14286|       0.0|      1.0|  0.0|[0.0,69.0,141.111...|[0.0,1.8328336211...|\n",
      "+-------------+------------+-------------+-------------+-----------------+----------+---------+-----+--------------------+--------------------+\n",
      "only showing top 5 rows\n",
      "\n"
     ]
    }
   ],
   "source": [
    "df_final.show(5)"
   ]
  },
  {
   "cell_type": "code",
   "execution_count": 155,
   "metadata": {},
   "outputs": [
    {
     "name": "stdout",
     "output_type": "stream",
     "text": [
      "+-----+-----+\n",
      "|label|count|\n",
      "+-----+-----+\n",
      "|  1.0|   52|\n",
      "|  0.0|  173|\n",
      "+-----+-----+\n",
      "\n"
     ]
    }
   ],
   "source": [
    "df_final.groupby('label').count().show()"
   ]
  },
  {
   "cell_type": "markdown",
   "metadata": {},
   "source": [
    "#### Train-Test-Split"
   ]
  },
  {
   "cell_type": "code",
   "execution_count": 157,
   "metadata": {},
   "outputs": [],
   "source": [
    "# Split the data\n",
    "train, test, validation = df_final.randomSplit([0.5, 0.25, 0.25], seed=42)"
   ]
  },
  {
   "cell_type": "code",
   "execution_count": 158,
   "metadata": {},
   "outputs": [],
   "source": [
    "# instantiate the models that will be used\n",
    "logreg = LogisticRegression(featuresCol = 'features', labelCol = 'label', maxIter=10)\n",
    "svc = LinearSVC(featuresCol = 'features', labelCol = 'label')\n",
    "nb = NaiveBayes(featuresCol = 'features', labelCol = 'label')\n",
    "ranfor = RandomForestClassifier(featuresCol = 'features', labelCol = 'label', seed=42)"
   ]
  },
  {
   "cell_type": "code",
   "execution_count": 159,
   "metadata": {},
   "outputs": [],
   "source": [
    "# create a list of the models\n",
    "models = [logreg,svc,nb,ranfor]"
   ]
  },
  {
   "cell_type": "code",
   "execution_count": 160,
   "metadata": {},
   "outputs": [],
   "source": [
    "# the evaluator we are using is multiclassclassificationevaluator which \n",
    "# can get the f1 score, accuracy, precision and recall in binary classification\n",
    "evaluator = MulticlassClassificationEvaluator(labelCol = 'label', predictionCol='prediction')"
   ]
  },
  {
   "cell_type": "code",
   "execution_count": 161,
   "metadata": {},
   "outputs": [
    {
     "name": "stdout",
     "output_type": "stream",
     "text": [
      "LogisticRegression training started\n",
      "LogisticRegression training ended\n",
      "Time taken for LogisticRegression is: 1.7510004043579102 seconds\n",
      "LogisticRegression predicting started\n",
      "LogisticRegression predicting ended\n",
      "F1 for LogisticRegression is: 0.7159888357256778\n",
      "The accuracy of the LogisticRegression model is: 0.734375\n",
      "LinearSVC training started\n",
      "LinearSVC training ended\n",
      "Time taken for LinearSVC is: 73.82817077636719 seconds\n",
      "LinearSVC predicting started\n",
      "LinearSVC predicting ended\n",
      "F1 for LinearSVC is: 0.6953125000000001\n",
      "The accuracy of the LinearSVC model is: 0.71875\n",
      "NaiveBayes training started\n",
      "NaiveBayes training ended\n",
      "Time taken for NaiveBayes is: 0.9418361186981201 seconds\n",
      "NaiveBayes predicting started\n",
      "NaiveBayes predicting ended\n",
      "F1 for NaiveBayes is: 0.5601851851851851\n",
      "The accuracy of the NaiveBayes model is: 0.6875\n",
      "RandomForestClassifier training started\n",
      "RandomForestClassifier training ended\n",
      "Time taken for RandomForestClassifier is: 2.1884512901306152 seconds\n",
      "RandomForestClassifier predicting started\n",
      "RandomForestClassifier predicting ended\n",
      "F1 for RandomForestClassifier is: 0.6862244897959184\n",
      "The accuracy of the RandomForestClassifier model is: 0.71875\n"
     ]
    }
   ],
   "source": [
    "# create a for loop to go through each model\n",
    "for model in models:\n",
    "    # get model name \n",
    "    model_name = model.__class__.__name__\n",
    "    \n",
    "    # print training started\n",
    "    print(model_name, 'model training started')\n",
    "    \n",
    "    # start time\n",
    "    start = time.time()\n",
    "    # fit the models on train dataset\n",
    "    model = model.fit(train)\n",
    "    # end time\n",
    "    end = time.time()\n",
    "     \n",
    "    # print training ended\n",
    "    print(model_name, 'model training ended')\n",
    "    # print time taken\n",
    "    print('Time taken for {} model was:'.format(model_name),(end-start),'seconds')\n",
    "    \n",
    "    # predict\n",
    "    print(model_name, 'model predicting started')\n",
    "    predictions = model.transform(validation)\n",
    "    print(model_name, 'model predicting ended')\n",
    "    \n",
    "    # evaluation metrics\n",
    "    # f1\n",
    "    print('F1 for {} is:'.format(model_name), evaluator.evaluate(predictions, {evaluator.metricName: \"f1\"}))\n",
    "    # accuracy\n",
    "    accuracy = predictions.filter(predictions.label == predictions.prediction).count() / (predictions.count())\n",
    "    print(\"The accuracy of the {} model is:\".format(model_name), accuracy)"
   ]
  },
  {
   "cell_type": "code",
   "execution_count": 162,
   "metadata": {},
   "outputs": [],
   "source": [
    "# try to imporve the model Random Forest Model to be better tham Logistic Regression\n",
    "paramGrid = ParamGridBuilder() \\\n",
    "    .addGrid(ranfor.numTrees,[20, 50, 75]) \\\n",
    "    .addGrid(ranfor.maxDepth,[5, 10, 15]) \\\n",
    "    .build()\n",
    "\n",
    "\n",
    "crossval = CrossValidator(estimator=ranfor,\n",
    "                          estimatorParamMaps=paramGrid,\n",
    "                          evaluator=MulticlassClassificationEvaluator(metricName = \"f1\"),\n",
    "                          numFolds=3)"
   ]
  },
  {
   "cell_type": "code",
   "execution_count": 163,
   "metadata": {},
   "outputs": [
    {
     "name": "stdout",
     "output_type": "stream",
     "text": [
      "CPU times: user 1.42 s, sys: 381 ms, total: 1.8 s\n",
      "Wall time: 59.1 s\n"
     ]
    }
   ],
   "source": [
    "%%time\n",
    "cvModel = crossval.fit(train)"
   ]
  },
  {
   "cell_type": "code",
   "execution_count": 164,
   "metadata": {},
   "outputs": [
    {
     "data": {
      "text/plain": [
       "[0.811701951047529,\n",
       " 0.8042634636090416,\n",
       " 0.8042634636090416,\n",
       " 0.7599145847949674,\n",
       " 0.7400752440674689,\n",
       " 0.7400752440674689,\n",
       " 0.7686014534818361,\n",
       " 0.7686014534818361,\n",
       " 0.7686014534818361]"
      ]
     },
     "execution_count": 164,
     "metadata": {},
     "output_type": "execute_result"
    }
   ],
   "source": [
    "cvModel.avgMetrics"
   ]
  },
  {
   "cell_type": "code",
   "execution_count": 165,
   "metadata": {},
   "outputs": [],
   "source": [
    "results = cvModel.transform(validation)"
   ]
  },
  {
   "cell_type": "code",
   "execution_count": 166,
   "metadata": {},
   "outputs": [],
   "source": [
    "accuracy = results.filter(results.label == results.prediction).count() / (results.count())"
   ]
  },
  {
   "cell_type": "code",
   "execution_count": 167,
   "metadata": {},
   "outputs": [],
   "source": [
    "best_model = cvModel.bestModel"
   ]
  },
  {
   "cell_type": "code",
   "execution_count": 168,
   "metadata": {},
   "outputs": [
    {
     "name": "stdout",
     "output_type": "stream",
     "text": [
      "Best Param (numTrees):  20\n",
      "Best Param (MaxDepth):  5\n"
     ]
    }
   ],
   "source": [
    "print (\"Best Param (numTrees): \", best_model._java_obj.getNumTrees())\n",
    "print (\"Best Param (MaxDepth): \", best_model._java_obj.getMaxDepth())"
   ]
  },
  {
   "cell_type": "code",
   "execution_count": 169,
   "metadata": {},
   "outputs": [
    {
     "name": "stdout",
     "output_type": "stream",
     "text": [
      "F1 for our best model is: 0.6862244897959184\n"
     ]
    }
   ],
   "source": [
    "print('F1 for our best model is:', evaluator.evaluate(predictions, {evaluator.metricName: \"f1\"}))"
   ]
  },
  {
   "cell_type": "code",
   "execution_count": 170,
   "metadata": {},
   "outputs": [
    {
     "name": "stdout",
     "output_type": "stream",
     "text": [
      "Accuracy for our best model is: 0.71875\n"
     ]
    }
   ],
   "source": [
    "print('Accuracy for our best model is:', evaluator.evaluate(predictions, {evaluator.metricName: \"accuracy\"}))"
   ]
  },
  {
   "cell_type": "markdown",
   "metadata": {},
   "source": [
    "#### Logistic Regression seems to perform better than the best Random Forests model. the Logistic Regression model has an F1 of 0.71599 and an accuracy of 0.73438"
   ]
  },
  {
   "cell_type": "code",
   "execution_count": 171,
   "metadata": {},
   "outputs": [],
   "source": [
    "importances = best_model.featureImportances"
   ]
  },
  {
   "cell_type": "code",
   "execution_count": 172,
   "metadata": {},
   "outputs": [],
   "source": [
    "x_values = list(range(len(importances)))"
   ]
  },
  {
   "cell_type": "code",
   "execution_count": 173,
   "metadata": {},
   "outputs": [],
   "source": [
    "features = list([\"downgrade_ind\", \"time_as_user\", \"daily_actions\", \"songs_per_day\", \"songs_per_session\", \"gender_ind\", \"level_ind\"])"
   ]
  },
  {
   "cell_type": "code",
   "execution_count": 174,
   "metadata": {},
   "outputs": [
    {
     "data": {
      "image/png": "[encoded data removed]",
      "text/plain": [
       "<matplotlib.figure.Figure at 0x7ff350be6cc0>"
      ]
     },
     "metadata": {
      "needs_background": "light"
     },
     "output_type": "display_data"
    }
   ],
   "source": [
    "plt.figure(figsize=[8,6])\n",
    "plt.bar(x_values, importances, orientation = 'vertical')\n",
    "plt.xticks(x_values, features, rotation=40)\n",
    "plt.ylabel('Importance')\n",
    "plt.xlabel('Feature')\n",
    "plt.title('Features by Importance');"
   ]
  },
  {
   "cell_type": "markdown",
   "metadata": {},
   "source": [
    "# Conclusion\n",
    "\n",
    "After observing, cleaning, and engineering features from the original data set, I was able to cut through a lot of noise in the data and narrow down to the best indicators of churn. Based on industry knowledge, I was confident that the best indicators for churn in subscription based productions is how long the person has been an user of the product and how much they use the product and the model confirmed that. \n",
    "\n",
    "Time as an user is very important because most people do not like change and this is why so many companies off lengthy free trials of a product of service. I've seen some companies offer a product or service freely for as much as 3 months! If you can get someone used to a product and build up features where the user and product almost know each other, this creates loyalty and makes the user less likely to start from scratch and try a similar product. Also, with a lot of the technological products we use, the amount of time we spend using and interacting with the product is a good indication on the liklihood of churn."
   ]
  },
  {
   "cell_type": "markdown",
   "metadata": {},
   "source": [
    "## Business Suggestions:\n",
    "In terms of Sparkify, this information can be used to reward or incentivize users the longer they stay using the Sparkify and the daily or weekly amount of usage by the user. Since newer customers are more likely to churn, they could be provided a free trial of the premium service for maybe 60 days! It might even be more successful if the user can extend their free trial for up to a certain amount of time based on the amount of time they spend using Sparkify. I would also create some form of a time series to monitor the users usage and create a warning when the 7-day average for usage falls below a certain level. This level can be based on all users or there could be a different warning level based on other factors."
   ]
  },
  {
   "cell_type": "markdown",
   "metadata": {},
   "source": [
    "## Model Suggestions:\n",
    "Given the data provided, if I had more time and data orver a longer period of time, I would take a look at some sort of time series analysis. I would create a variable that would track an users usage per day and week. My goal would be to look for constant decline or a flucuating pattern of usage. An user downgrading would definitely be something to create a warning on Sparkify's end.\n",
    "\n",
    "Recommendation Engines would also come into play. There could be an opportunity to suggest artists similar to th artist(s) the user listens to the most and possible look at the time of day the user is most active on Sparkify to know when to send a notification."
   ]
  },
  {
   "cell_type": "markdown",
   "metadata": {},
   "source": [
    "# Final Steps\n",
    "Clean up your code, adding comments and renaming variables to make the code easier to read and maintain. Refer to the Spark Project Overview page and Data Scientist Capstone Project Rubric to make sure you are including all components of the capstone project and meet all expectations. Remember, this includes thorough documentation in a README file in a Github repository, as well as a web app or blog post."
   ]
  },
  {
   "cell_type": "code",
   "execution_count": null,
   "metadata": {},
   "outputs": [],
   "source": []
  }
 ],
 "metadata": {
  "kernelspec": {
   "display_name": "Python 3",
   "language": "python",
   "name": "python3"
  },
  "language_info": {
   "codemirror_mode": {
    "name": "ipython",
    "version": 3
   },
   "file_extension": ".py",
   "mimetype": "text/x-python",
   "name": "python",
   "nbconvert_exporter": "python",
   "pygments_lexer": "ipython3",
   "version": "3.6.3"
  }
 },
 "nbformat": 4,
 "nbformat_minor": 2
}
